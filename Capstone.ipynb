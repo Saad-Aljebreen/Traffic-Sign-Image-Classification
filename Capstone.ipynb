{
 "cells": [
  {
   "cell_type": "code",
   "execution_count": 32,
   "metadata": {},
   "outputs": [],
   "source": [
    "import pandas as pd\n",
    "import numpy as np \n",
    "import seaborn as sns \n",
    "import matplotlib.pyplot as plt\n",
    "\n",
    "import os\n",
    "\n",
    "\n",
    "from sklearn.preprocessing import StandardScaler\n",
    "from sklearn.model_selection import train_test_split\n",
    "from keras import models, layers,applications\n",
    "# from keras import regularizers\n",
    "from PIL import Image\n",
    "\n",
    "\n",
    "import plaidml.keras\n",
    "plaidml.keras.install_backend()\n",
    "import os\n",
    "os.environ[\"KERAS_BACKEND\"] = \"plaidml.keras.backend\""
   ]
  },
  {
   "cell_type": "markdown",
   "metadata": {},
   "source": [
    "## Read the data"
   ]
  },
  {
   "cell_type": "code",
   "execution_count": 222,
   "metadata": {},
   "outputs": [],
   "source": [
    "df_train = pd.read_csv('Dataset/Train.csv')"
   ]
  },
  {
   "cell_type": "markdown",
   "metadata": {},
   "source": [
    "## Basic EDA"
   ]
  },
  {
   "cell_type": "code",
   "execution_count": 223,
   "metadata": {},
   "outputs": [
    {
     "data": {
      "text/html": [
       "<div>\n",
       "<style scoped>\n",
       "    .dataframe tbody tr th:only-of-type {\n",
       "        vertical-align: middle;\n",
       "    }\n",
       "\n",
       "    .dataframe tbody tr th {\n",
       "        vertical-align: top;\n",
       "    }\n",
       "\n",
       "    .dataframe thead th {\n",
       "        text-align: right;\n",
       "    }\n",
       "</style>\n",
       "<table border=\"1\" class=\"dataframe\">\n",
       "  <thead>\n",
       "    <tr style=\"text-align: right;\">\n",
       "      <th></th>\n",
       "      <th>Width</th>\n",
       "      <th>Height</th>\n",
       "      <th>Roi.X1</th>\n",
       "      <th>Roi.Y1</th>\n",
       "      <th>Roi.X2</th>\n",
       "      <th>Roi.Y2</th>\n",
       "      <th>ClassId</th>\n",
       "      <th>Path</th>\n",
       "    </tr>\n",
       "  </thead>\n",
       "  <tbody>\n",
       "    <tr>\n",
       "      <th>0</th>\n",
       "      <td>27</td>\n",
       "      <td>26</td>\n",
       "      <td>5</td>\n",
       "      <td>5</td>\n",
       "      <td>22</td>\n",
       "      <td>20</td>\n",
       "      <td>20</td>\n",
       "      <td>Train/20/00020_00000_00000.png</td>\n",
       "    </tr>\n",
       "    <tr>\n",
       "      <th>1</th>\n",
       "      <td>28</td>\n",
       "      <td>27</td>\n",
       "      <td>5</td>\n",
       "      <td>6</td>\n",
       "      <td>23</td>\n",
       "      <td>22</td>\n",
       "      <td>20</td>\n",
       "      <td>Train/20/00020_00000_00001.png</td>\n",
       "    </tr>\n",
       "    <tr>\n",
       "      <th>2</th>\n",
       "      <td>29</td>\n",
       "      <td>26</td>\n",
       "      <td>6</td>\n",
       "      <td>5</td>\n",
       "      <td>24</td>\n",
       "      <td>21</td>\n",
       "      <td>20</td>\n",
       "      <td>Train/20/00020_00000_00002.png</td>\n",
       "    </tr>\n",
       "    <tr>\n",
       "      <th>3</th>\n",
       "      <td>28</td>\n",
       "      <td>27</td>\n",
       "      <td>5</td>\n",
       "      <td>6</td>\n",
       "      <td>23</td>\n",
       "      <td>22</td>\n",
       "      <td>20</td>\n",
       "      <td>Train/20/00020_00000_00003.png</td>\n",
       "    </tr>\n",
       "    <tr>\n",
       "      <th>4</th>\n",
       "      <td>28</td>\n",
       "      <td>26</td>\n",
       "      <td>5</td>\n",
       "      <td>5</td>\n",
       "      <td>23</td>\n",
       "      <td>21</td>\n",
       "      <td>20</td>\n",
       "      <td>Train/20/00020_00000_00004.png</td>\n",
       "    </tr>\n",
       "  </tbody>\n",
       "</table>\n",
       "</div>"
      ],
      "text/plain": [
       "   Width  Height  Roi.X1  Roi.Y1  Roi.X2  Roi.Y2  ClassId  \\\n",
       "0     27      26       5       5      22      20       20   \n",
       "1     28      27       5       6      23      22       20   \n",
       "2     29      26       6       5      24      21       20   \n",
       "3     28      27       5       6      23      22       20   \n",
       "4     28      26       5       5      23      21       20   \n",
       "\n",
       "                             Path  \n",
       "0  Train/20/00020_00000_00000.png  \n",
       "1  Train/20/00020_00000_00001.png  \n",
       "2  Train/20/00020_00000_00002.png  \n",
       "3  Train/20/00020_00000_00003.png  \n",
       "4  Train/20/00020_00000_00004.png  "
      ]
     },
     "execution_count": 223,
     "metadata": {},
     "output_type": "execute_result"
    }
   ],
   "source": [
    "df_train.head()"
   ]
  },
  {
   "cell_type": "code",
   "execution_count": 7,
   "metadata": {},
   "outputs": [
    {
     "data": {
      "text/html": [
       "<div>\n",
       "<style scoped>\n",
       "    .dataframe tbody tr th:only-of-type {\n",
       "        vertical-align: middle;\n",
       "    }\n",
       "\n",
       "    .dataframe tbody tr th {\n",
       "        vertical-align: top;\n",
       "    }\n",
       "\n",
       "    .dataframe thead th {\n",
       "        text-align: right;\n",
       "    }\n",
       "</style>\n",
       "<table border=\"1\" class=\"dataframe\">\n",
       "  <thead>\n",
       "    <tr style=\"text-align: right;\">\n",
       "      <th></th>\n",
       "      <th>Width</th>\n",
       "      <th>Height</th>\n",
       "      <th>Roi.X1</th>\n",
       "      <th>Roi.Y1</th>\n",
       "      <th>Roi.X2</th>\n",
       "      <th>Roi.Y2</th>\n",
       "      <th>ClassId</th>\n",
       "      <th>Path</th>\n",
       "    </tr>\n",
       "  </thead>\n",
       "  <tbody>\n",
       "    <tr>\n",
       "      <th>0</th>\n",
       "      <td>27</td>\n",
       "      <td>26</td>\n",
       "      <td>5</td>\n",
       "      <td>5</td>\n",
       "      <td>22</td>\n",
       "      <td>20</td>\n",
       "      <td>20</td>\n",
       "      <td>Train/20/00020_00000_00000.png</td>\n",
       "    </tr>\n",
       "    <tr>\n",
       "      <th>1</th>\n",
       "      <td>28</td>\n",
       "      <td>27</td>\n",
       "      <td>5</td>\n",
       "      <td>6</td>\n",
       "      <td>23</td>\n",
       "      <td>22</td>\n",
       "      <td>20</td>\n",
       "      <td>Train/20/00020_00000_00001.png</td>\n",
       "    </tr>\n",
       "    <tr>\n",
       "      <th>2</th>\n",
       "      <td>29</td>\n",
       "      <td>26</td>\n",
       "      <td>6</td>\n",
       "      <td>5</td>\n",
       "      <td>24</td>\n",
       "      <td>21</td>\n",
       "      <td>20</td>\n",
       "      <td>Train/20/00020_00000_00002.png</td>\n",
       "    </tr>\n",
       "    <tr>\n",
       "      <th>3</th>\n",
       "      <td>28</td>\n",
       "      <td>27</td>\n",
       "      <td>5</td>\n",
       "      <td>6</td>\n",
       "      <td>23</td>\n",
       "      <td>22</td>\n",
       "      <td>20</td>\n",
       "      <td>Train/20/00020_00000_00003.png</td>\n",
       "    </tr>\n",
       "    <tr>\n",
       "      <th>4</th>\n",
       "      <td>28</td>\n",
       "      <td>26</td>\n",
       "      <td>5</td>\n",
       "      <td>5</td>\n",
       "      <td>23</td>\n",
       "      <td>21</td>\n",
       "      <td>20</td>\n",
       "      <td>Train/20/00020_00000_00004.png</td>\n",
       "    </tr>\n",
       "    <tr>\n",
       "      <th>...</th>\n",
       "      <td>...</td>\n",
       "      <td>...</td>\n",
       "      <td>...</td>\n",
       "      <td>...</td>\n",
       "      <td>...</td>\n",
       "      <td>...</td>\n",
       "      <td>...</td>\n",
       "      <td>...</td>\n",
       "    </tr>\n",
       "    <tr>\n",
       "      <th>39204</th>\n",
       "      <td>52</td>\n",
       "      <td>56</td>\n",
       "      <td>5</td>\n",
       "      <td>6</td>\n",
       "      <td>47</td>\n",
       "      <td>51</td>\n",
       "      <td>42</td>\n",
       "      <td>Train/42/00042_00007_00025.png</td>\n",
       "    </tr>\n",
       "    <tr>\n",
       "      <th>39205</th>\n",
       "      <td>56</td>\n",
       "      <td>58</td>\n",
       "      <td>5</td>\n",
       "      <td>5</td>\n",
       "      <td>51</td>\n",
       "      <td>53</td>\n",
       "      <td>42</td>\n",
       "      <td>Train/42/00042_00007_00026.png</td>\n",
       "    </tr>\n",
       "    <tr>\n",
       "      <th>39206</th>\n",
       "      <td>58</td>\n",
       "      <td>62</td>\n",
       "      <td>5</td>\n",
       "      <td>6</td>\n",
       "      <td>53</td>\n",
       "      <td>57</td>\n",
       "      <td>42</td>\n",
       "      <td>Train/42/00042_00007_00027.png</td>\n",
       "    </tr>\n",
       "    <tr>\n",
       "      <th>39207</th>\n",
       "      <td>63</td>\n",
       "      <td>69</td>\n",
       "      <td>5</td>\n",
       "      <td>7</td>\n",
       "      <td>58</td>\n",
       "      <td>63</td>\n",
       "      <td>42</td>\n",
       "      <td>Train/42/00042_00007_00028.png</td>\n",
       "    </tr>\n",
       "    <tr>\n",
       "      <th>39208</th>\n",
       "      <td>68</td>\n",
       "      <td>69</td>\n",
       "      <td>7</td>\n",
       "      <td>6</td>\n",
       "      <td>62</td>\n",
       "      <td>63</td>\n",
       "      <td>42</td>\n",
       "      <td>Train/42/00042_00007_00029.png</td>\n",
       "    </tr>\n",
       "  </tbody>\n",
       "</table>\n",
       "<p>39209 rows × 8 columns</p>\n",
       "</div>"
      ],
      "text/plain": [
       "       Width  Height  Roi.X1  Roi.Y1  Roi.X2  Roi.Y2  ClassId  \\\n",
       "0         27      26       5       5      22      20       20   \n",
       "1         28      27       5       6      23      22       20   \n",
       "2         29      26       6       5      24      21       20   \n",
       "3         28      27       5       6      23      22       20   \n",
       "4         28      26       5       5      23      21       20   \n",
       "...      ...     ...     ...     ...     ...     ...      ...   \n",
       "39204     52      56       5       6      47      51       42   \n",
       "39205     56      58       5       5      51      53       42   \n",
       "39206     58      62       5       6      53      57       42   \n",
       "39207     63      69       5       7      58      63       42   \n",
       "39208     68      69       7       6      62      63       42   \n",
       "\n",
       "                                 Path  \n",
       "0      Train/20/00020_00000_00000.png  \n",
       "1      Train/20/00020_00000_00001.png  \n",
       "2      Train/20/00020_00000_00002.png  \n",
       "3      Train/20/00020_00000_00003.png  \n",
       "4      Train/20/00020_00000_00004.png  \n",
       "...                               ...  \n",
       "39204  Train/42/00042_00007_00025.png  \n",
       "39205  Train/42/00042_00007_00026.png  \n",
       "39206  Train/42/00042_00007_00027.png  \n",
       "39207  Train/42/00042_00007_00028.png  \n",
       "39208  Train/42/00042_00007_00029.png  \n",
       "\n",
       "[39209 rows x 8 columns]"
      ]
     },
     "execution_count": 7,
     "metadata": {},
     "output_type": "execute_result"
    }
   ],
   "source": [
    "df_train"
   ]
  },
  {
   "cell_type": "code",
   "execution_count": 231,
   "metadata": {},
   "outputs": [
    {
     "data": {
      "image/png": "[encoded data removed]",
      "text/plain": [
       "<Figure size 432x288 with 1 Axes>"
      ]
     },
     "metadata": {
      "needs_background": "light"
     },
     "output_type": "display_data"
    }
   ],
   "source": [
    "plt.imshow(plt.imread('Dataset/' + df_train['Path'][30]))\n",
    "plt.show()"
   ]
  },
  {
   "cell_type": "code",
   "execution_count": 232,
   "metadata": {},
   "outputs": [
    {
     "data": {
      "text/plain": [
       "2     2250\n",
       "1     2220\n",
       "13    2160\n",
       "12    2100\n",
       "38    2070\n",
       "10    2010\n",
       "4     1980\n",
       "5     1860\n",
       "25    1500\n",
       "9     1470\n",
       "7     1440\n",
       "3     1410\n",
       "8     1410\n",
       "11    1320\n",
       "35    1200\n",
       "18    1200\n",
       "17    1110\n",
       "31     780\n",
       "14     780\n",
       "33     689\n",
       "15     630\n",
       "26     600\n",
       "28     540\n",
       "23     510\n",
       "30     450\n",
       "34     420\n",
       "6      420\n",
       "16     420\n",
       "22     390\n",
       "36     390\n",
       "20     360\n",
       "40     360\n",
       "21     330\n",
       "39     300\n",
       "24     270\n",
       "29     270\n",
       "42     240\n",
       "41     240\n",
       "27     240\n",
       "32     240\n",
       "37     210\n",
       "19     210\n",
       "Name: ClassId, dtype: int64"
      ]
     },
     "execution_count": 232,
     "metadata": {},
     "output_type": "execute_result"
    }
   ],
   "source": [
    "df_train.ClassId.value_counts()"
   ]
  },
  {
   "cell_type": "code",
   "execution_count": 225,
   "metadata": {},
   "outputs": [],
   "source": [
    "classes_name = { 1:'Speed limit (20km/h)',\n",
    "            2:'Speed limit (30km/h)', \n",
    "            3:'Speed limit (50km/h)', \n",
    "            4:'Speed limit (60km/h)', \n",
    "            5:'Speed limit (70km/h)', \n",
    "            6:'Speed limit (80km/h)', \n",
    "            7:'End of speed limit (80km/h)', \n",
    "            8:'Speed limit (100km/h)', \n",
    "            9:'Speed limit (120km/h)', \n",
    "            10:'No passing', \n",
    "            11:'No passing veh over 3.5 tons', \n",
    "            12:'Right-of-way at intersection', \n",
    "            13:'Priority road', \n",
    "            14:'Yield', \n",
    "            15:'Stop', \n",
    "            16:'No vehicles', \n",
    "            17:'Veh > 3.5 tons prohibited', \n",
    "            18:'No entry', \n",
    "            19:'General caution', \n",
    "            20:'Dangerous curve left', \n",
    "            21:'Dangerous curve right', \n",
    "            22:'Double curve', \n",
    "            23:'Bumpy road', \n",
    "            24:'Slippery road', \n",
    "            25:'Road narrows on the right', \n",
    "            26:'Road work', \n",
    "            27:'Traffic signals', \n",
    "            28:'Pedestrians', \n",
    "            29:'Children crossing', \n",
    "            30:'Bicycles crossing', \n",
    "            31:'Beware of ice/snow',\n",
    "            32:'Wild animals crossing', \n",
    "            33:'End speed + passing limits', \n",
    "            34:'Turn right ahead', \n",
    "            35:'Turn left ahead', \n",
    "            36:'Ahead only', \n",
    "            37:'Go straight or right', \n",
    "            38:'Go straight or left', \n",
    "            39:'Keep right', \n",
    "            40:'Keep left', \n",
    "            41:'Roundabout mandatory', \n",
    "            42:'End of no passing', \n",
    "            43:'End no passing veh > 3.5 tons' \n",
    "          }\n"
   ]
  },
  {
   "cell_type": "code",
   "execution_count": 226,
   "metadata": {},
   "outputs": [],
   "source": [
    "df_train['ClassName'] = df_train.ClassId.map(classes_name)"
   ]
  },
  {
   "cell_type": "code",
   "execution_count": 233,
   "metadata": {},
   "outputs": [
    {
     "data": {
      "text/plain": [
       "array([20,  1,  2,  3,  4,  5,  6,  7,  8,  9, 10, 11, 12, 13, 14, 15, 16,\n",
       "       17, 18, 19, 21, 22, 23, 24, 25, 26, 27, 28, 29, 30, 31, 32, 33, 34,\n",
       "       35, 36, 37, 38, 39, 40, 41, 42])"
      ]
     },
     "execution_count": 233,
     "metadata": {},
     "output_type": "execute_result"
    }
   ],
   "source": [
    "df_train.ClassId.unique()"
   ]
  },
  {
   "cell_type": "code",
   "execution_count": 235,
   "metadata": {},
   "outputs": [
    {
     "data": {
      "text/plain": [
       "Width        0\n",
       "Height       0\n",
       "Roi.X1       0\n",
       "Roi.Y1       0\n",
       "Roi.X2       0\n",
       "Roi.Y2       0\n",
       "ClassId      0\n",
       "Path         0\n",
       "ClassName    0\n",
       "dtype: int64"
      ]
     },
     "execution_count": 235,
     "metadata": {},
     "output_type": "execute_result"
    }
   ],
   "source": [
    "df_train.isna().sum()"
   ]
  },
  {
   "cell_type": "code",
   "execution_count": 228,
   "metadata": {},
   "outputs": [],
   "source": [
    "df_train = df_train.dropna()"
   ]
  },
  {
   "cell_type": "code",
   "execution_count": null,
   "metadata": {},
   "outputs": [],
   "source": [
    "df_train.corr()"
   ]
  },
  {
   "cell_type": "code",
   "execution_count": null,
   "metadata": {},
   "outputs": [],
   "source": [
    "df_train.shape"
   ]
  },
  {
   "cell_type": "code",
   "execution_count": 230,
   "metadata": {
    "scrolled": false
   },
   "outputs": [
    {
     "data": {
      "image/png": "[encoded data removed]",
      "text/plain": [
       "<Figure size 1080x504 with 1 Axes>"
      ]
     },
     "metadata": {
      "needs_background": "light"
     },
     "output_type": "display_data"
    }
   ],
   "source": [
    "\n",
    "plt.figure(figsize=(15,7))\n",
    "chart = sns.countplot(df_train['ClassName'], palette='Set1'\n",
    ")\n",
    "chart.set_xticklabels(chart.get_xticklabels(), rotation=90)\n",
    "chart.set_title('Distribution');"
   ]
  },
  {
   "cell_type": "code",
   "execution_count": null,
   "metadata": {},
   "outputs": [],
   "source": [
    "plt.figure(figsize=(15,7))\n",
    "sns.distplot(df_train.ClassId, kde=False, bins=(90))"
   ]
  },
  {
   "cell_type": "code",
   "execution_count": null,
   "metadata": {},
   "outputs": [],
   "source": [
    "df_train"
   ]
  },
  {
   "cell_type": "code",
   "execution_count": null,
   "metadata": {},
   "outputs": [],
   "source": []
  },
  {
   "cell_type": "markdown",
   "metadata": {},
   "source": [
    "## Preprocessing"
   ]
  },
  {
   "cell_type": "markdown",
   "metadata": {},
   "source": [
    "#### Extract array with four parameter:\n",
    "\n",
    "    1- Shape\n",
    "    2- Width\n",
    "    3- Hight\n",
    "    4- Color"
   ]
  },
  {
   "cell_type": "code",
   "execution_count": 187,
   "metadata": {},
   "outputs": [],
   "source": [
    "data = []\n",
    "labels = []\n",
    "cur_path = os.getcwd()\n",
    "\n"
   ]
  },
  {
   "cell_type": "code",
   "execution_count": 188,
   "metadata": {},
   "outputs": [
    {
     "data": {
      "text/plain": [
       "43"
      ]
     },
     "execution_count": 188,
     "metadata": {},
     "output_type": "execute_result"
    }
   ],
   "source": [
    "classes  =43\n",
    "classes"
   ]
  },
  {
   "cell_type": "code",
   "execution_count": 189,
   "metadata": {},
   "outputs": [
    {
     "name": "stdout",
     "output_type": "stream",
     "text": [
      "00000_00005_00023.png\n",
      "00001_00018_00015.png\n",
      "00002_00047_00029.png\n",
      "00003_00010_00005.png\n",
      "00004_00046_00017.png\n",
      "00005_00000_00020.png\n",
      "00006_00013_00029.png\n",
      "00007_00036_00009.png\n",
      "00008_00030_00018.png\n",
      "00009_00020_00011.png\n",
      "00010_00013_00016.png\n",
      "00011_00000_00003.png\n",
      "00012_00034_00018.png\n",
      "00013_00035_00022.png\n",
      "00014_00008_00017.png\n",
      "00015_00020_00008.png\n",
      "00016_00006_00029.png\n",
      "00017_00015_00001.png\n",
      "00018_00034_00016.png\n",
      "00019_00003_00026.png\n",
      "00020_00002_00012.png\n",
      "00021_00003_00002.png\n",
      "00022_00009_00008.png\n",
      "00023_00003_00020.png\n",
      "00024_00003_00026.png\n",
      "00025_00040_00009.png\n",
      "00026_00017_00010.png\n",
      "00027_00002_00029.png\n",
      "00028_00004_00013.png\n",
      "00029_00003_00004.png\n",
      "00030_00006_00008.png\n",
      "00031_00020_00008.png\n",
      "00032_00000_00028.png\n",
      "00033_00004_00026.png\n",
      "00034_00009_00023.png\n",
      "00035_00024_00024.png\n",
      "00036_00002_00013.png\n",
      "00037_00003_00005.png\n",
      "00038_00038_00022.png\n",
      "00039_00001_00024.png\n",
      "00040_00011_00019.png\n",
      "00041_00001_00015.png\n",
      "00042_00005_00000.png\n"
     ]
    }
   ],
   "source": [
    "for i in range(classes):\n",
    "    path = os.path.join(cur_path, 'Dataset/train', str(i))\n",
    "    images = os.listdir(path)\n",
    "    print(images[i])\n",
    "    for l in images:\n",
    "        try:            \n",
    "            image = Image.open(path + \"//\" + l)\n",
    "            image = image.resize((128, 128))\n",
    "            image = np.array(image)\n",
    "            data.append(image)\n",
    "            labels.append(i)\n",
    "        except :\n",
    "            print('Error loading image')\n",
    "X = np.array(data)\n",
    "y = np.array(labels)"
   ]
  },
  {
   "cell_type": "code",
   "execution_count": 191,
   "metadata": {},
   "outputs": [
    {
     "data": {
      "text/plain": [
       "(39209, 128, 128, 3)"
      ]
     },
     "execution_count": 191,
     "metadata": {},
     "output_type": "execute_result"
    }
   ],
   "source": [
    "X.shape"
   ]
  },
  {
   "cell_type": "code",
   "execution_count": 192,
   "metadata": {},
   "outputs": [
    {
     "data": {
      "text/plain": [
       "(39209,)"
      ]
     },
     "execution_count": 192,
     "metadata": {},
     "output_type": "execute_result"
    }
   ],
   "source": [
    "y.shape"
   ]
  },
  {
   "cell_type": "code",
   "execution_count": 221,
   "metadata": {},
   "outputs": [
    {
     "data": {
      "text/plain": [
       "<matplotlib.image.AxesImage at 0x1a3dad2fd0>"
      ]
     },
     "execution_count": 221,
     "metadata": {},
     "output_type": "execute_result"
    },
    {
     "data": {
      "image/png": "[encoded data removed]",
      "text/plain": [
       "<Figure size 432x288 with 1 Axes>"
      ]
     },
     "metadata": {
      "needs_background": "light"
     },
     "output_type": "display_data"
    }
   ],
   "source": [
    "import random\n",
    "i = random.randint(0 , len(X))\n",
    "plt.imshow(X[i])"
   ]
  },
  {
   "cell_type": "code",
   "execution_count": 15,
   "metadata": {},
   "outputs": [
    {
     "data": {
      "text/plain": [
       "(39209, 32, 32, 3)"
      ]
     },
     "execution_count": 15,
     "metadata": {},
     "output_type": "execute_result"
    }
   ],
   "source": [
    "X.shape"
   ]
  },
  {
   "cell_type": "code",
   "execution_count": null,
   "metadata": {},
   "outputs": [],
   "source": [
    "# def grayscale(img):\n",
    "#     img = cv2.cvtColor(img,cv2.COLOR_BGR2GRAY)\n",
    "#     return img\n",
    "# def equalize(img):\n",
    "#     img =cv2.equalizeHist(img)\n",
    "#     return img\n",
    "# def preprocessing(img):\n",
    "#     img = grayscale(img)     # CONVERT TO GRAYSCALE\n",
    "#     img = equalize(img)      # STANDARDIZE THE LIGHTING IN AN IMAGE\n",
    "#     img = img/255            # TO NORMALIZE VALUES BETWEEN 0 AND 1 INSTEAD OF 0 TO 255\n",
    "#     return img\n",
    "\n",
    "# X_train=np.array(list(map(preprocessing,X_train)))  # TO IRETATE AND PREPROCESS ALL IMAGES\n",
    "# X_test=np.array(list(map(preprocessing,X_test)))\n",
    "# plt.imshow(X_train[random.randint(0,len(X_train)-1)]) # TO CHECK IF THE TRAINING IS DONE PROPERLY"
   ]
  },
  {
   "cell_type": "code",
   "execution_count": null,
   "metadata": {},
   "outputs": [],
   "source": [
    "# X_train=X_train.reshape(X_train.shape[0],X_train.shape[1],X_train.shape[2],1)\n",
    "# X_test=X_test.reshape(X_test.shape[0],X_test.shape[1],X_test.shape[2],1)"
   ]
  },
  {
   "cell_type": "code",
   "execution_count": null,
   "metadata": {},
   "outputs": [],
   "source": [
    "X_train.shape"
   ]
  },
  {
   "cell_type": "code",
   "execution_count": null,
   "metadata": {},
   "outputs": [],
   "source": [
    "# ############################### AUGMENTATAION OF IMAGES: TO MAKEIT MORE GENERIC\n",
    "# dataGen= ImageDataGenerator(width_shift_range=0.1,   # 0.1 = 10%     IF MORE THAN 1 E.G 10 THEN IT REFFERS TO NO. OF  PIXELS EG 10 PIXELS\n",
    "#                             height_shift_range=0.1,\n",
    "#                             zoom_range=0.2,  # 0.2 MEANS CAN GO FROM 0.8 TO 1.2\n",
    "#                             shear_range=0.1,  # MAGNITUDE OF SHEAR ANGLE\n",
    "#                             rotation_range=10)  # DEGREES"
   ]
  },
  {
   "cell_type": "code",
   "execution_count": null,
   "metadata": {},
   "outputs": [],
   "source": [
    "# dataGen.fit(X_train)\n",
    "# batches= dataGen.flow(X_train,y_train,batch_size=20)  # REQUESTING DATA GENRATOR TO GENERATE IMAGES  BATCH SIZE = NO. OF IMAGES CREAED EACH TIME ITS CALLED\n",
    "# X_batch,y_batch = next(batches)"
   ]
  },
  {
   "cell_type": "code",
   "execution_count": null,
   "metadata": {},
   "outputs": [],
   "source": [
    "# X_batch[i].reshape(imageDimesions[0],imageDimesions[1])"
   ]
  },
  {
   "cell_type": "code",
   "execution_count": null,
   "metadata": {},
   "outputs": [],
   "source": [
    "# import cv2\n",
    "# import random"
   ]
  },
  {
   "cell_type": "code",
   "execution_count": null,
   "metadata": {},
   "outputs": [],
   "source": [
    "# def gray_scale(image):\n",
    "    \n",
    "#     return cv2.cvtColor(image, cv2.COLOR_RGB2GRAY)"
   ]
  },
  {
   "cell_type": "code",
   "execution_count": null,
   "metadata": {},
   "outputs": [],
   "source": [
    "# def grayscale(img):\n",
    "#     img = cv2.cvtColor(img,cv2.COLOR_BGR2GRAY)\n",
    "#     return img\n",
    "# # def equalize(img):\n",
    "# #     img =cv2.equalizeHist(img)\n",
    "# #     return img\n",
    "# def preprocessing(img):\n",
    "#     img = grayscale(img)     # CONVERT TO GRAYSCALE\n",
    "# #     img = equalize(img)      # STANDARDIZE THE LIGHTING IN AN IMAGE\n",
    "# #     img = img/255            # TO NORMALIZE VALUES BETWEEN 0 AND 1 INSTEAD OF 0 TO 255\n",
    "#     return img"
   ]
  },
  {
   "cell_type": "code",
   "execution_count": null,
   "metadata": {},
   "outputs": [],
   "source": [
    "# X.shape"
   ]
  },
  {
   "cell_type": "code",
   "execution_count": null,
   "metadata": {},
   "outputs": [],
   "source": [
    "# X_gray=np.array(list(map(preprocessing,X)))  # TO IRETATE AND PREPROCESS ALL IMAGES\n",
    "# # X_test=np.array(list(map(preprocessing,X)))\n",
    "# plt.imshow(X_gray[random.randint(0,len(X)-1)]) # TO CHECK IF THE TRAINING IS DONE PROPERLY\n"
   ]
  },
  {
   "cell_type": "markdown",
   "metadata": {},
   "source": [
    "### Train test split"
   ]
  },
  {
   "cell_type": "code",
   "execution_count": 49,
   "metadata": {},
   "outputs": [],
   "source": [
    "X_train, X_test, y_train, y_test = train_test_split(X, y, test_size=0.2, random_state=42, shuffle=True)"
   ]
  },
  {
   "cell_type": "code",
   "execution_count": 50,
   "metadata": {},
   "outputs": [
    {
     "data": {
      "text/plain": [
       "(39209, 32, 32, 3)"
      ]
     },
     "execution_count": 50,
     "metadata": {},
     "output_type": "execute_result"
    }
   ],
   "source": [
    "X.shape"
   ]
  },
  {
   "cell_type": "code",
   "execution_count": 51,
   "metadata": {},
   "outputs": [
    {
     "data": {
      "text/plain": [
       "(31367, 32, 32, 3)"
      ]
     },
     "execution_count": 51,
     "metadata": {},
     "output_type": "execute_result"
    }
   ],
   "source": [
    "X_train.shape"
   ]
  },
  {
   "cell_type": "code",
   "execution_count": 52,
   "metadata": {},
   "outputs": [
    {
     "name": "stdout",
     "output_type": "stream",
     "text": [
      "28\n"
     ]
    },
    {
     "data": {
      "text/plain": [
       "<matplotlib.image.AxesImage at 0x1a36913510>"
      ]
     },
     "execution_count": 52,
     "metadata": {},
     "output_type": "execute_result"
    },
    {
     "data": {
      "image/png": "[encoded data removed]",
      "text/plain": [
       "<Figure size 432x288 with 1 Axes>"
      ]
     },
     "metadata": {
      "needs_background": "light"
     },
     "output_type": "display_data"
    }
   ],
   "source": [
    "print(y_train[1])\n",
    "\n",
    "plt.imshow(X_train[1])"
   ]
  },
  {
   "cell_type": "markdown",
   "metadata": {},
   "source": [
    "### Modeling"
   ]
  },
  {
   "cell_type": "markdown",
   "metadata": {},
   "source": [
    "#### Step1\n",
    "Build the neural network"
   ]
  },
  {
   "cell_type": "code",
   "execution_count": 104,
   "metadata": {},
   "outputs": [],
   "source": [
    "# Firest model\n",
    "model = models.Sequential()\n",
    "\n",
    "model.add(layers.Flatten())\n",
    "model.add(layers.Dense(64 * 9, activation='sigmoid'))\n",
    "model.add(layers.Dense(64 * 9, activation='sigmoid'))\n",
    "model.add(layers.Dense(classes, activation='softmax'))\n",
    "\n",
    "model.build(input_shape=(None, 32, 32, 3))\n",
    "\n"
   ]
  },
  {
   "cell_type": "code",
   "execution_count": 105,
   "metadata": {},
   "outputs": [
    {
     "name": "stdout",
     "output_type": "stream",
     "text": [
      "Model: \"sequential_3\"\n",
      "_________________________________________________________________\n",
      "Layer (type)                 Output Shape              Param #   \n",
      "=================================================================\n",
      "flatten_3 (Flatten)          (None, 3072)              0         \n",
      "_________________________________________________________________\n",
      "dense_5 (Dense)              (None, 576)               1770048   \n",
      "_________________________________________________________________\n",
      "dense_6 (Dense)              (None, 576)               332352    \n",
      "_________________________________________________________________\n",
      "dense_7 (Dense)              (None, 43)                24811     \n",
      "=================================================================\n",
      "Total params: 2,127,211\n",
      "Trainable params: 2,127,211\n",
      "Non-trainable params: 0\n",
      "_________________________________________________________________\n"
     ]
    }
   ],
   "source": [
    "model.summary()"
   ]
  },
  {
   "cell_type": "markdown",
   "metadata": {},
   "source": [
    "#### Step 2\n",
    "Compile the model"
   ]
  },
  {
   "cell_type": "code",
   "execution_count": 106,
   "metadata": {},
   "outputs": [],
   "source": [
    "model.compile('sgd', loss='sparse_categorical_crossentropy', metrics=['accuracy'])\n",
    "\n"
   ]
  },
  {
   "cell_type": "markdown",
   "metadata": {},
   "source": [
    "#### Step 3 \n",
    "Fitting the model"
   ]
  },
  {
   "cell_type": "code",
   "execution_count": 107,
   "metadata": {},
   "outputs": [
    {
     "data": {
      "text/plain": [
       "(31367, 32, 32, 3)"
      ]
     },
     "execution_count": 107,
     "metadata": {},
     "output_type": "execute_result"
    }
   ],
   "source": [
    "X_train.shape"
   ]
  },
  {
   "cell_type": "code",
   "execution_count": 108,
   "metadata": {
    "scrolled": true
   },
   "outputs": [
    {
     "name": "stdout",
     "output_type": "stream",
     "text": [
      "Train on 31367 samples, validate on 7842 samples\n",
      "Epoch 1/100\n",
      "31367/31367 [==============================] - 9s 302us/step - loss: 3.3717 - accuracy: 0.1331 - val_loss: 3.2372 - val_accuracy: 0.1154\n",
      "Epoch 2/100\n",
      "31367/31367 [==============================] - 9s 278us/step - loss: 2.9946 - accuracy: 0.2780 - val_loss: 2.7946 - val_accuracy: 0.2946\n",
      "Epoch 3/100\n",
      "31367/31367 [==============================] - 9s 278us/step - loss: 2.5845 - accuracy: 0.3654 - val_loss: 2.4652 - val_accuracy: 0.3583\n",
      "Epoch 4/100\n",
      "31367/31367 [==============================] - 9s 276us/step - loss: 2.3132 - accuracy: 0.4103 - val_loss: 2.1797 - val_accuracy: 0.4285\n",
      "Epoch 5/100\n",
      "31367/31367 [==============================] - 9s 281us/step - loss: 2.1478 - accuracy: 0.4438 - val_loss: 2.1214 - val_accuracy: 0.4666\n",
      "Epoch 6/100\n",
      "31367/31367 [==============================] - 9s 275us/step - loss: 2.0827 - accuracy: 0.4639 - val_loss: 2.0290 - val_accuracy: 0.4362\n",
      "Epoch 7/100\n",
      "31367/31367 [==============================] - 9s 277us/step - loss: 2.0517 - accuracy: 0.4656 - val_loss: 2.1126 - val_accuracy: 0.4741\n",
      "Epoch 8/100\n",
      "31367/31367 [==============================] - 9s 284us/step - loss: 2.0366 - accuracy: 0.4756 - val_loss: 2.0817 - val_accuracy: 0.4512\n",
      "Epoch 9/100\n",
      "31367/31367 [==============================] - 9s 295us/step - loss: 2.0627 - accuracy: 0.4663 - val_loss: 2.0030 - val_accuracy: 0.4926\n",
      "Epoch 10/100\n",
      "31367/31367 [==============================] - 10s 318us/step - loss: 2.0650 - accuracy: 0.4615 - val_loss: 2.1236 - val_accuracy: 0.4234\n",
      "Epoch 11/100\n",
      "31367/31367 [==============================] - 9s 289us/step - loss: 2.0877 - accuracy: 0.4530 - val_loss: 2.1798 - val_accuracy: 0.3980\n",
      "Epoch 12/100\n",
      "31367/31367 [==============================] - 10s 307us/step - loss: 2.1547 - accuracy: 0.4348 - val_loss: 2.1352 - val_accuracy: 0.4412\n",
      "Epoch 13/100\n",
      "31367/31367 [==============================] - 9s 293us/step - loss: 2.1447 - accuracy: 0.4332 - val_loss: 2.2224 - val_accuracy: 0.4123\n",
      "Epoch 14/100\n",
      "31367/31367 [==============================] - 9s 294us/step - loss: 2.2244 - accuracy: 0.4187 - val_loss: 2.2991 - val_accuracy: 0.3846\n",
      "Epoch 15/100\n",
      "31367/31367 [==============================] - 9s 302us/step - loss: 2.2689 - accuracy: 0.4005 - val_loss: 2.3047 - val_accuracy: 0.3383\n",
      "Epoch 16/100\n",
      "31367/31367 [==============================] - 9s 294us/step - loss: 2.3508 - accuracy: 0.3765 - val_loss: 2.5797 - val_accuracy: 0.3100\n",
      "Epoch 17/100\n",
      "31367/31367 [==============================] - 9s 299us/step - loss: 2.3771 - accuracy: 0.3700 - val_loss: 2.3722 - val_accuracy: 0.3822\n",
      "Epoch 18/100\n",
      "31367/31367 [==============================] - 9s 300us/step - loss: 2.2719 - accuracy: 0.3839 - val_loss: 2.2480 - val_accuracy: 0.4021\n",
      "Epoch 19/100\n",
      "31367/31367 [==============================] - 9s 292us/step - loss: 2.4118 - accuracy: 0.3545 - val_loss: 2.5199 - val_accuracy: 0.3159\n",
      "Epoch 20/100\n",
      "31367/31367 [==============================] - 10s 304us/step - loss: 2.5237 - accuracy: 0.3237 - val_loss: 2.6333 - val_accuracy: 0.3036\n",
      "Epoch 21/100\n",
      "31367/31367 [==============================] - 10s 304us/step - loss: 2.5275 - accuracy: 0.3204 - val_loss: 2.6128 - val_accuracy: 0.2781\n",
      "Epoch 22/100\n",
      "31367/31367 [==============================] - 9s 293us/step - loss: 2.6381 - accuracy: 0.2971 - val_loss: 2.7698 - val_accuracy: 0.2886\n",
      "Epoch 23/100\n",
      "31367/31367 [==============================] - 10s 315us/step - loss: 2.6661 - accuracy: 0.2888 - val_loss: 2.8942 - val_accuracy: 0.2237\n",
      "Epoch 24/100\n",
      "31367/31367 [==============================] - 10s 308us/step - loss: 2.5304 - accuracy: 0.3081 - val_loss: 2.4862 - val_accuracy: 0.3049\n",
      "Epoch 25/100\n",
      "31367/31367 [==============================] - 9s 283us/step - loss: 2.6786 - accuracy: 0.2765 - val_loss: 2.5342 - val_accuracy: 0.3141\n",
      "Epoch 26/100\n",
      "31367/31367 [==============================] - 10s 318us/step - loss: 2.7736 - accuracy: 0.2551 - val_loss: 2.6899 - val_accuracy: 0.2466\n",
      "Epoch 27/100\n",
      "31367/31367 [==============================] - 9s 299us/step - loss: 2.7089 - accuracy: 0.2634 - val_loss: 2.6626 - val_accuracy: 0.2632\n",
      "Epoch 28/100\n",
      "31367/31367 [==============================] - 9s 287us/step - loss: 2.8205 - accuracy: 0.2378 - val_loss: 2.9560 - val_accuracy: 0.2156\n",
      "Epoch 29/100\n",
      "31367/31367 [==============================] - 9s 300us/step - loss: 2.7757 - accuracy: 0.2444 - val_loss: 2.8684 - val_accuracy: 0.2021\n",
      "Epoch 30/100\n",
      "31367/31367 [==============================] - 9s 302us/step - loss: 2.9000 - accuracy: 0.2144 - val_loss: 2.9717 - val_accuracy: 0.1496\n",
      "Epoch 31/100\n",
      "31367/31367 [==============================] - 9s 299us/step - loss: 2.9673 - accuracy: 0.1936 - val_loss: 3.1520 - val_accuracy: 0.1237\n",
      "Epoch 32/100\n",
      "31367/31367 [==============================] - 9s 298us/step - loss: 2.9155 - accuracy: 0.1938 - val_loss: 2.7076 - val_accuracy: 0.2451\n",
      "Epoch 33/100\n",
      "31367/31367 [==============================] - 10s 317us/step - loss: 2.9241 - accuracy: 0.2009 - val_loss: 3.1418 - val_accuracy: 0.1273\n",
      "Epoch 34/100\n",
      "31367/31367 [==============================] - 10s 330us/step - loss: 3.0469 - accuracy: 0.1746 - val_loss: 2.9421 - val_accuracy: 0.1774\n",
      "Epoch 35/100\n",
      "31367/31367 [==============================] - 10s 309us/step - loss: 2.9419 - accuracy: 0.1990 - val_loss: 3.2061 - val_accuracy: 0.1454\n",
      "Epoch 36/100\n",
      "31367/31367 [==============================] - 10s 318us/step - loss: 2.9021 - accuracy: 0.2019 - val_loss: 2.6022 - val_accuracy: 0.2521\n",
      "Epoch 37/100\n",
      "31367/31367 [==============================] - 9s 289us/step - loss: 2.9413 - accuracy: 0.1864 - val_loss: 3.2513 - val_accuracy: 0.1183\n",
      "Epoch 38/100\n",
      "31367/31367 [==============================] - 9s 295us/step - loss: 3.0114 - accuracy: 0.1747 - val_loss: 2.9444 - val_accuracy: 0.1761\n",
      "Epoch 39/100\n",
      "31367/31367 [==============================] - 9s 300us/step - loss: 2.9933 - accuracy: 0.1737 - val_loss: 3.2609 - val_accuracy: 0.1480\n",
      "Epoch 40/100\n",
      "31367/31367 [==============================] - 9s 293us/step - loss: 2.9650 - accuracy: 0.1893 - val_loss: 3.0659 - val_accuracy: 0.1599\n",
      "Epoch 41/100\n",
      "31367/31367 [==============================] - 10s 304us/step - loss: 3.0150 - accuracy: 0.1621 - val_loss: 3.0100 - val_accuracy: 0.1093\n",
      "Epoch 42/100\n",
      "31367/31367 [==============================] - 10s 313us/step - loss: 3.0315 - accuracy: 0.1604 - val_loss: 3.0287 - val_accuracy: 0.1705\n",
      "Epoch 43/100\n",
      "31367/31367 [==============================] - 9s 294us/step - loss: 2.8303 - accuracy: 0.2089 - val_loss: 3.1128 - val_accuracy: 0.1382\n",
      "Epoch 44/100\n",
      "31367/31367 [==============================] - 10s 316us/step - loss: 2.9272 - accuracy: 0.1862 - val_loss: 2.8747 - val_accuracy: 0.1762\n",
      "Epoch 45/100\n",
      "31367/31367 [==============================] - 9s 295us/step - loss: 2.9498 - accuracy: 0.1818 - val_loss: 3.0690 - val_accuracy: 0.1495\n",
      "Epoch 46/100\n",
      "31367/31367 [==============================] - 9s 299us/step - loss: 2.9407 - accuracy: 0.1753 - val_loss: 3.0078 - val_accuracy: 0.1557\n",
      "Epoch 47/100\n",
      "31367/31367 [==============================] - 10s 309us/step - loss: 2.8986 - accuracy: 0.1814 - val_loss: 3.0057 - val_accuracy: 0.1941\n",
      "Epoch 48/100\n",
      "31367/31367 [==============================] - 9s 294us/step - loss: 2.8323 - accuracy: 0.1982 - val_loss: 2.9213 - val_accuracy: 0.1922\n",
      "Epoch 49/100\n",
      "31367/31367 [==============================] - 10s 308us/step - loss: 2.7724 - accuracy: 0.2020 - val_loss: 2.8084 - val_accuracy: 0.1769\n",
      "Epoch 50/100\n",
      "31367/31367 [==============================] - 9s 299us/step - loss: 2.9908 - accuracy: 0.1665 - val_loss: 3.1381 - val_accuracy: 0.1211\n",
      "Epoch 51/100\n",
      "31367/31367 [==============================] - 10s 306us/step - loss: 3.0087 - accuracy: 0.1487 - val_loss: 3.0157 - val_accuracy: 0.1450\n",
      "Epoch 52/100\n",
      "31367/31367 [==============================] - 10s 305us/step - loss: 2.9839 - accuracy: 0.1603 - val_loss: 3.1678 - val_accuracy: 0.1038\n",
      "Epoch 53/100\n",
      "31367/31367 [==============================] - 9s 298us/step - loss: 3.1235 - accuracy: 0.1495 - val_loss: 3.1683 - val_accuracy: 0.1325\n",
      "Epoch 54/100\n",
      "31367/31367 [==============================] - 10s 313us/step - loss: 2.8969 - accuracy: 0.1962 - val_loss: 2.6341 - val_accuracy: 0.2799\n",
      "Epoch 55/100\n",
      "31367/31367 [==============================] - 9s 291us/step - loss: 2.9686 - accuracy: 0.1713 - val_loss: 3.0695 - val_accuracy: 0.1526\n",
      "Epoch 56/100\n",
      "31367/31367 [==============================] - 9s 302us/step - loss: 3.0800 - accuracy: 0.1389 - val_loss: 3.3544 - val_accuracy: 0.0639\n",
      "Epoch 57/100\n",
      "31367/31367 [==============================] - 10s 312us/step - loss: 3.2890 - accuracy: 0.1074 - val_loss: 3.6598 - val_accuracy: 0.1181\n",
      "Epoch 58/100\n",
      "31367/31367 [==============================] - 9s 293us/step - loss: 3.0351 - accuracy: 0.1459 - val_loss: 3.0882 - val_accuracy: 0.1477\n",
      "Epoch 59/100\n",
      "31367/31367 [==============================] - 9s 292us/step - loss: 3.0153 - accuracy: 0.1483 - val_loss: 3.2150 - val_accuracy: 0.0965\n",
      "Epoch 60/100\n",
      "31367/31367 [==============================] - 10s 305us/step - loss: 3.2650 - accuracy: 0.1106 - val_loss: 3.2134 - val_accuracy: 0.1260\n",
      "Epoch 61/100\n",
      "31367/31367 [==============================] - 9s 301us/step - loss: 3.0898 - accuracy: 0.1498 - val_loss: 3.0527 - val_accuracy: 0.1339\n",
      "Epoch 62/100\n",
      "31367/31367 [==============================] - 9s 289us/step - loss: 2.8863 - accuracy: 0.1753 - val_loss: 2.8456 - val_accuracy: 0.1687\n",
      "Epoch 63/100\n",
      "31367/31367 [==============================] - 10s 306us/step - loss: 3.0384 - accuracy: 0.1617 - val_loss: 3.1191 - val_accuracy: 0.1393\n",
      "Epoch 64/100\n",
      "31367/31367 [==============================] - 10s 313us/step - loss: 2.9712 - accuracy: 0.1615 - val_loss: 3.0558 - val_accuracy: 0.1412\n",
      "Epoch 65/100\n",
      "31367/31367 [==============================] - 9s 296us/step - loss: 3.0937 - accuracy: 0.1374 - val_loss: 3.1704 - val_accuracy: 0.1319\n",
      "Epoch 66/100\n",
      "31367/31367 [==============================] - 10s 304us/step - loss: 3.0056 - accuracy: 0.1599 - val_loss: 2.8588 - val_accuracy: 0.1964\n",
      "Epoch 67/100\n",
      "31367/31367 [==============================] - 9s 295us/step - loss: 2.9993 - accuracy: 0.1564 - val_loss: 3.2424 - val_accuracy: 0.1401\n",
      "Epoch 68/100\n",
      "31367/31367 [==============================] - 10s 306us/step - loss: 3.0757 - accuracy: 0.1405 - val_loss: 3.0446 - val_accuracy: 0.1468\n",
      "Epoch 69/100\n",
      "31367/31367 [==============================] - 9s 303us/step - loss: 2.9731 - accuracy: 0.1645 - val_loss: 3.2981 - val_accuracy: 0.0830\n",
      "Epoch 70/100\n",
      "31367/31367 [==============================] - 10s 317us/step - loss: 3.1168 - accuracy: 0.1379 - val_loss: 3.0544 - val_accuracy: 0.1427\n",
      "Epoch 71/100\n",
      "31367/31367 [==============================] - 10s 316us/step - loss: 2.9287 - accuracy: 0.1751 - val_loss: 2.8223 - val_accuracy: 0.1946\n",
      "Epoch 72/100\n",
      "31367/31367 [==============================] - 10s 310us/step - loss: 2.9012 - accuracy: 0.1678 - val_loss: 2.9576 - val_accuracy: 0.1631\n",
      "Epoch 73/100\n",
      "31367/31367 [==============================] - 10s 303us/step - loss: 3.0636 - accuracy: 0.1370 - val_loss: 3.2776 - val_accuracy: 0.1094\n",
      "Epoch 74/100\n",
      "31367/31367 [==============================] - 10s 318us/step - loss: 3.1330 - accuracy: 0.1260 - val_loss: 3.1190 - val_accuracy: 0.1172\n",
      "Epoch 75/100\n",
      "31367/31367 [==============================] - 10s 305us/step - loss: 3.0899 - accuracy: 0.1204 - val_loss: 3.0080 - val_accuracy: 0.1394\n",
      "Epoch 76/100\n",
      "31367/31367 [==============================] - 9s 295us/step - loss: 3.0429 - accuracy: 0.1263 - val_loss: 3.1460 - val_accuracy: 0.1227\n",
      "Epoch 77/100\n",
      "31367/31367 [==============================] - 10s 312us/step - loss: 3.1710 - accuracy: 0.1171 - val_loss: 3.0793 - val_accuracy: 0.1313\n",
      "Epoch 78/100\n",
      "31367/31367 [==============================] - 10s 305us/step - loss: 3.0886 - accuracy: 0.1200 - val_loss: 3.0046 - val_accuracy: 0.1180\n",
      "Epoch 79/100\n",
      "31367/31367 [==============================] - 10s 310us/step - loss: 3.0652 - accuracy: 0.1261 - val_loss: 3.0158 - val_accuracy: 0.1081\n",
      "Epoch 80/100\n",
      "31367/31367 [==============================] - 10s 314us/step - loss: 3.0516 - accuracy: 0.1253 - val_loss: 3.1774 - val_accuracy: 0.0912\n",
      "Epoch 81/100\n",
      "31367/31367 [==============================] - 10s 321us/step - loss: 3.3373 - accuracy: 0.0890 - val_loss: 3.5056 - val_accuracy: 0.0879\n",
      "Epoch 82/100\n",
      "31367/31367 [==============================] - 10s 323us/step - loss: 3.3216 - accuracy: 0.0955 - val_loss: 3.1613 - val_accuracy: 0.1129\n",
      "Epoch 83/100\n",
      "31367/31367 [==============================] - 10s 314us/step - loss: 3.0908 - accuracy: 0.1337 - val_loss: 3.0716 - val_accuracy: 0.1274\n",
      "Epoch 84/100\n",
      "31367/31367 [==============================] - 11s 336us/step - loss: 3.1921 - accuracy: 0.1143 - val_loss: 3.1943 - val_accuracy: 0.1061\n",
      "Epoch 85/100\n",
      "31367/31367 [==============================] - 10s 318us/step - loss: 3.1389 - accuracy: 0.1183 - val_loss: 3.0837 - val_accuracy: 0.1190\n",
      "Epoch 86/100\n",
      "31367/31367 [==============================] - 9s 296us/step - loss: 3.0485 - accuracy: 0.1399 - val_loss: 2.9972 - val_accuracy: 0.1631\n",
      "Epoch 87/100\n",
      "31367/31367 [==============================] - 10s 321us/step - loss: 3.0212 - accuracy: 0.1631 - val_loss: 2.9901 - val_accuracy: 0.1464\n",
      "Epoch 88/100\n",
      "31367/31367 [==============================] - 11s 350us/step - loss: 2.8067 - accuracy: 0.1864 - val_loss: 2.7199 - val_accuracy: 0.2357\n",
      "Epoch 89/100\n",
      "31367/31367 [==============================] - 9s 302us/step - loss: 2.9371 - accuracy: 0.1550 - val_loss: 2.9742 - val_accuracy: 0.1259\n",
      "Epoch 90/100\n",
      "31367/31367 [==============================] - 9s 289us/step - loss: 3.2291 - accuracy: 0.1105 - val_loss: 3.0367 - val_accuracy: 0.1487\n",
      "Epoch 91/100\n",
      "31367/31367 [==============================] - 9s 298us/step - loss: 2.9795 - accuracy: 0.1518 - val_loss: 2.9765 - val_accuracy: 0.1220\n",
      "Epoch 92/100\n",
      "31367/31367 [==============================] - 11s 342us/step - loss: 3.0664 - accuracy: 0.1217 - val_loss: 3.1416 - val_accuracy: 0.1058\n",
      "Epoch 93/100\n",
      "31367/31367 [==============================] - 9s 284us/step - loss: 3.0589 - accuracy: 0.1290 - val_loss: 2.9941 - val_accuracy: 0.1051\n",
      "Epoch 94/100\n",
      "31367/31367 [==============================] - 11s 351us/step - loss: 3.0322 - accuracy: 0.1303 - val_loss: 2.9878 - val_accuracy: 0.1186\n",
      "Epoch 95/100\n",
      "31367/31367 [==============================] - 11s 339us/step - loss: 3.0345 - accuracy: 0.1252 - val_loss: 2.9516 - val_accuracy: 0.1500\n",
      "Epoch 96/100\n",
      "31367/31367 [==============================] - 10s 328us/step - loss: 2.9556 - accuracy: 0.1444 - val_loss: 3.0556 - val_accuracy: 0.1134\n",
      "Epoch 97/100\n",
      "31367/31367 [==============================] - 9s 294us/step - loss: 3.0888 - accuracy: 0.1251 - val_loss: 3.3290 - val_accuracy: 0.1085\n",
      "Epoch 98/100\n",
      "31367/31367 [==============================] - 9s 296us/step - loss: 3.1859 - accuracy: 0.1209 - val_loss: 3.0131 - val_accuracy: 0.1505\n",
      "Epoch 99/100\n",
      "31367/31367 [==============================] - 10s 317us/step - loss: 3.0785 - accuracy: 0.1281 - val_loss: 2.9577 - val_accuracy: 0.1256\n",
      "Epoch 100/100\n",
      "31367/31367 [==============================] - 9s 281us/step - loss: 3.1203 - accuracy: 0.1283 - val_loss: 3.5037 - val_accuracy: 0.0792\n"
     ]
    }
   ],
   "source": [
    "history = model.fit(X_train,\n",
    "                    y_train,\n",
    "                    validation_data=(X_test, y_test),\n",
    "                    epochs=100, # num of iteration,\n",
    "                    batch_size=None, # how many sample to update weight,\n",
    "                    verbose=1) # to print log of epech or not"
   ]
  },
  {
   "cell_type": "code",
   "execution_count": 110,
   "metadata": {},
   "outputs": [
    {
     "ename": "NameError",
     "evalue": "name 'history' is not defined",
     "output_type": "error",
     "traceback": [
      "\u001b[0;31m---------------------------------------------------------------------------\u001b[0m",
      "\u001b[0;31mNameError\u001b[0m                                 Traceback (most recent call last)",
      "\u001b[0;32m<ipython-input-110-149c1d53bde9>\u001b[0m in \u001b[0;36m<module>\u001b[0;34m\u001b[0m\n\u001b[0;32m----> 1\u001b[0;31m \u001b[0mprint\u001b[0m\u001b[0;34m(\u001b[0m\u001b[0;34m'Train loss'\u001b[0m\u001b[0;34m,\u001b[0m \u001b[0mhistory\u001b[0m\u001b[0;34m.\u001b[0m\u001b[0mhistory\u001b[0m\u001b[0;34m[\u001b[0m\u001b[0;34m'loss'\u001b[0m\u001b[0;34m]\u001b[0m\u001b[0;34m[\u001b[0m\u001b[0;34m-\u001b[0m\u001b[0;36m1\u001b[0m\u001b[0;34m]\u001b[0m\u001b[0;34m)\u001b[0m\u001b[0;34m\u001b[0m\u001b[0;34m\u001b[0m\u001b[0m\n\u001b[0m\u001b[1;32m      2\u001b[0m \u001b[0mprint\u001b[0m\u001b[0;34m(\u001b[0m\u001b[0;34m'Test loss'\u001b[0m\u001b[0;34m,\u001b[0m \u001b[0mhistory\u001b[0m\u001b[0;34m.\u001b[0m\u001b[0mhistory\u001b[0m\u001b[0;34m[\u001b[0m\u001b[0;34m'val_loss'\u001b[0m\u001b[0;34m]\u001b[0m\u001b[0;34m[\u001b[0m\u001b[0;34m-\u001b[0m\u001b[0;36m1\u001b[0m\u001b[0;34m]\u001b[0m\u001b[0;34m)\u001b[0m\u001b[0;34m\u001b[0m\u001b[0;34m\u001b[0m\u001b[0m\n",
      "\u001b[0;31mNameError\u001b[0m: name 'history' is not defined"
     ]
    }
   ],
   "source": [
    "print('Train loss', history.history['loss'][-1])\n",
    "print('Test loss', history.history['val_loss'][-1])"
   ]
  },
  {
   "cell_type": "code",
   "execution_count": 109,
   "metadata": {},
   "outputs": [
    {
     "ename": "NameError",
     "evalue": "name 'history' is not defined",
     "output_type": "error",
     "traceback": [
      "\u001b[0;31m---------------------------------------------------------------------------\u001b[0m",
      "\u001b[0;31mNameError\u001b[0m                                 Traceback (most recent call last)",
      "\u001b[0;32m<ipython-input-109-ca219fd52c38>\u001b[0m in \u001b[0;36m<module>\u001b[0;34m\u001b[0m\n\u001b[1;32m      1\u001b[0m \u001b[0;31m############################### PLOT\u001b[0m\u001b[0;34m\u001b[0m\u001b[0;34m\u001b[0m\u001b[0;34m\u001b[0m\u001b[0m\n\u001b[1;32m      2\u001b[0m \u001b[0mplt\u001b[0m\u001b[0;34m.\u001b[0m\u001b[0mfigure\u001b[0m\u001b[0;34m(\u001b[0m\u001b[0;36m1\u001b[0m\u001b[0;34m)\u001b[0m\u001b[0;34m\u001b[0m\u001b[0;34m\u001b[0m\u001b[0m\n\u001b[0;32m----> 3\u001b[0;31m \u001b[0mplt\u001b[0m\u001b[0;34m.\u001b[0m\u001b[0mplot\u001b[0m\u001b[0;34m(\u001b[0m\u001b[0mhistory\u001b[0m\u001b[0;34m.\u001b[0m\u001b[0mhistory\u001b[0m\u001b[0;34m[\u001b[0m\u001b[0;34m'loss'\u001b[0m\u001b[0;34m]\u001b[0m\u001b[0;34m[\u001b[0m\u001b[0;34m-\u001b[0m\u001b[0;36m1\u001b[0m\u001b[0;34m]\u001b[0m\u001b[0;34m)\u001b[0m\u001b[0;34m\u001b[0m\u001b[0;34m\u001b[0m\u001b[0m\n\u001b[0m\u001b[1;32m      4\u001b[0m \u001b[0mplt\u001b[0m\u001b[0;34m.\u001b[0m\u001b[0mplot\u001b[0m\u001b[0;34m(\u001b[0m\u001b[0mhistory\u001b[0m\u001b[0;34m.\u001b[0m\u001b[0mhistory\u001b[0m\u001b[0;34m[\u001b[0m\u001b[0;34m'val_loss'\u001b[0m\u001b[0;34m]\u001b[0m\u001b[0;34m)\u001b[0m\u001b[0;34m\u001b[0m\u001b[0;34m\u001b[0m\u001b[0m\n\u001b[1;32m      5\u001b[0m \u001b[0mplt\u001b[0m\u001b[0;34m.\u001b[0m\u001b[0mlegend\u001b[0m\u001b[0;34m(\u001b[0m\u001b[0;34m[\u001b[0m\u001b[0;34m'training'\u001b[0m\u001b[0;34m,\u001b[0m\u001b[0;34m'validation'\u001b[0m\u001b[0;34m]\u001b[0m\u001b[0;34m)\u001b[0m\u001b[0;34m\u001b[0m\u001b[0;34m\u001b[0m\u001b[0m\n",
      "\u001b[0;31mNameError\u001b[0m: name 'history' is not defined"
     ]
    },
    {
     "data": {
      "text/plain": [
       "<Figure size 432x288 with 0 Axes>"
      ]
     },
     "metadata": {},
     "output_type": "display_data"
    }
   ],
   "source": []
  },
  {
   "cell_type": "code",
   "execution_count": 110,
   "metadata": {},
   "outputs": [
    {
     "data": {
      "text/plain": [
       "<matplotlib.legend.Legend at 0x1a3b51ed10>"
      ]
     },
     "execution_count": 110,
     "metadata": {},
     "output_type": "execute_result"
    },
    {
     "data": {
      "image/png": "[encoded data removed]",
      "text/plain": [
       "<Figure size 432x288 with 1 Axes>"
      ]
     },
     "metadata": {
      "needs_background": "light"
     },
     "output_type": "display_data"
    }
   ],
   "source": [
    "## plot loss function\n",
    "train_loss = history.history['loss']\n",
    "test_loss = history.history['val_loss']\n",
    "plt.plot(train_loss, label='Training loss')\n",
    "plt.plot(test_loss, label='Testing loss')\n",
    "plt.legend()"
   ]
  },
  {
   "cell_type": "markdown",
   "metadata": {},
   "source": [
    "#### Step1\n",
    "Build the neural network"
   ]
  },
  {
   "cell_type": "code",
   "execution_count": null,
   "metadata": {},
   "outputs": [],
   "source": [
    "len(np.unique(y_train))"
   ]
  },
  {
   "cell_type": "code",
   "execution_count": null,
   "metadata": {},
   "outputs": [],
   "source": [
    "# n_classes = len(np.unique(y_train))\n",
    "\n",
    "# model = models.Sequential()\n",
    "\n",
    "# model.add(layers.Conv2D(64, (3, 3), activation='sigmoid'))\n",
    "# model.add(layers.MaxPooling2D((2, 2)))\n",
    "# model.add(layers.Conv2D(64, (3, 3), activation='sigmoid'))\n",
    "# model.add(layers.MaxPooling2D((2, 2)))\n",
    "# model.add(layers.Flatten())\n",
    "# model.add(layers.Dense(n_classes, activation='softmax'))\n",
    "\n",
    "# model.build(input_shape=(None, 30, 30, 3))\n",
    "\n",
    "# model.compile('sgd', loss='sparse_categorical_crossentropy', metrics=['accuracy'])\n",
    "\n",
    "# model.summary()"
   ]
  },
  {
   "cell_type": "code",
   "execution_count": null,
   "metadata": {},
   "outputs": [],
   "source": [
    "X_train[..., np.newaxis].shape[1:]"
   ]
  },
  {
   "cell_type": "code",
   "execution_count": 26,
   "metadata": {},
   "outputs": [],
   "source": [
    "\n",
    "model = models.Sequential()\n",
    "\n",
    "model.add(layers.Conv2D(64, (3, 3), activation='relu', input_shape=X_train.shape[1:]))\n",
    "model.add(layers.Conv2D(64, (3, 3), activation='relu'))\n",
    "model.add(layers.MaxPooling2D((2, 2)))\n",
    "model.add(layers.Dropout(0.4))\n",
    "model.add(layers.Conv2D(64, (3, 3), activation='relu'))\n",
    "model.add(layers.Conv2D(64, (3, 3), activation='relu'))\n",
    "model.add(layers.MaxPooling2D((2, 2)))\n",
    "model.add(layers.Dropout(0.4))\n",
    "model.add(layers.Flatten())\n",
    "model.add(layers.Dense(256, activation='relu'))\n",
    "model.add(layers.Dropout(0.6))\n",
    "model.add(layers.Dense(classes, activation='softmax'))\n",
    "\n",
    "\n",
    "\n"
   ]
  },
  {
   "cell_type": "markdown",
   "metadata": {},
   "source": [
    "#### Step 2\n",
    "Compile the model"
   ]
  },
  {
   "cell_type": "code",
   "execution_count": 27,
   "metadata": {},
   "outputs": [
    {
     "name": "stdout",
     "output_type": "stream",
     "text": [
      "Model: \"sequential_2\"\n",
      "_________________________________________________________________\n",
      "Layer (type)                 Output Shape              Param #   \n",
      "=================================================================\n",
      "conv2d_5 (Conv2D)            (None, 30, 30, 64)        1792      \n",
      "_________________________________________________________________\n",
      "conv2d_6 (Conv2D)            (None, 28, 28, 64)        36928     \n",
      "_________________________________________________________________\n",
      "max_pooling2d_3 (MaxPooling2 (None, 14, 14, 64)        0         \n",
      "_________________________________________________________________\n",
      "dropout_4 (Dropout)          (None, 14, 14, 64)        0         \n",
      "_________________________________________________________________\n",
      "conv2d_7 (Conv2D)            (None, 12, 12, 64)        36928     \n",
      "_________________________________________________________________\n",
      "conv2d_8 (Conv2D)            (None, 10, 10, 64)        36928     \n",
      "_________________________________________________________________\n",
      "max_pooling2d_4 (MaxPooling2 (None, 5, 5, 64)          0         \n",
      "_________________________________________________________________\n",
      "dropout_5 (Dropout)          (None, 5, 5, 64)          0         \n",
      "_________________________________________________________________\n",
      "flatten_2 (Flatten)          (None, 1600)              0         \n",
      "_________________________________________________________________\n",
      "dense_3 (Dense)              (None, 256)               409856    \n",
      "_________________________________________________________________\n",
      "dropout_6 (Dropout)          (None, 256)               0         \n",
      "_________________________________________________________________\n",
      "dense_4 (Dense)              (None, 43)                11051     \n",
      "=================================================================\n",
      "Total params: 533,483\n",
      "Trainable params: 533,483\n",
      "Non-trainable params: 0\n",
      "_________________________________________________________________\n"
     ]
    }
   ],
   "source": [
    "model.summary()"
   ]
  },
  {
   "cell_type": "code",
   "execution_count": 28,
   "metadata": {},
   "outputs": [],
   "source": [
    "model.compile(loss='sparse_categorical_crossentropy', optimizer='adam', metrics=['accuracy'])\n",
    "\n"
   ]
  },
  {
   "cell_type": "markdown",
   "metadata": {},
   "source": [
    "#### Step 3 \n",
    "Fitting the model"
   ]
  },
  {
   "cell_type": "code",
   "execution_count": 29,
   "metadata": {},
   "outputs": [
    {
     "data": {
      "text/plain": [
       "(31367, 32, 32, 3)"
      ]
     },
     "execution_count": 29,
     "metadata": {},
     "output_type": "execute_result"
    }
   ],
   "source": [
    "X_train.shape"
   ]
  },
  {
   "cell_type": "code",
   "execution_count": 30,
   "metadata": {},
   "outputs": [
    {
     "data": {
      "text/plain": [
       "(7842, 32, 32, 3)"
      ]
     },
     "execution_count": 30,
     "metadata": {},
     "output_type": "execute_result"
    }
   ],
   "source": [
    "X_test.shape"
   ]
  },
  {
   "cell_type": "code",
   "execution_count": 31,
   "metadata": {
    "scrolled": true
   },
   "outputs": [
    {
     "name": "stdout",
     "output_type": "stream",
     "text": [
      "Train on 31367 samples, validate on 7842 samples\n",
      "Epoch 1/100\n",
      " 9632/31367 [========>.....................] - ETA: 2:15 - loss: 15.3631 - accuracy: 0.0443"
     ]
    },
    {
     "ename": "KeyboardInterrupt",
     "evalue": "",
     "output_type": "error",
     "traceback": [
      "\u001b[0;31m---------------------------------------------------------------------------\u001b[0m",
      "\u001b[0;31mKeyboardInterrupt\u001b[0m                         Traceback (most recent call last)",
      "\u001b[0;32m<ipython-input-31-45f8c95c74e7>\u001b[0m in \u001b[0;36m<module>\u001b[0;34m\u001b[0m\n\u001b[1;32m      4\u001b[0m                     \u001b[0mepochs\u001b[0m\u001b[0;34m=\u001b[0m\u001b[0;36m100\u001b[0m\u001b[0;34m,\u001b[0m \u001b[0;31m# num of iteration,\u001b[0m\u001b[0;34m\u001b[0m\u001b[0;34m\u001b[0m\u001b[0m\n\u001b[1;32m      5\u001b[0m                     \u001b[0mbatch_size\u001b[0m\u001b[0;34m=\u001b[0m\u001b[0;32mNone\u001b[0m\u001b[0;34m,\u001b[0m \u001b[0;31m# how many sample to update weight,\u001b[0m\u001b[0;34m\u001b[0m\u001b[0;34m\u001b[0m\u001b[0m\n\u001b[0;32m----> 6\u001b[0;31m                     verbose=1) # to print log of epech or not\n\u001b[0m",
      "\u001b[0;32m/opt/anaconda3/lib/python3.7/site-packages/keras/engine/training.py\u001b[0m in \u001b[0;36mfit\u001b[0;34m(self, x, y, batch_size, epochs, verbose, callbacks, validation_split, validation_data, shuffle, class_weight, sample_weight, initial_epoch, steps_per_epoch, validation_steps, validation_freq, max_queue_size, workers, use_multiprocessing, **kwargs)\u001b[0m\n\u001b[1;32m   1237\u001b[0m                                         \u001b[0msteps_per_epoch\u001b[0m\u001b[0;34m=\u001b[0m\u001b[0msteps_per_epoch\u001b[0m\u001b[0;34m,\u001b[0m\u001b[0;34m\u001b[0m\u001b[0;34m\u001b[0m\u001b[0m\n\u001b[1;32m   1238\u001b[0m                                         \u001b[0mvalidation_steps\u001b[0m\u001b[0;34m=\u001b[0m\u001b[0mvalidation_steps\u001b[0m\u001b[0;34m,\u001b[0m\u001b[0;34m\u001b[0m\u001b[0;34m\u001b[0m\u001b[0m\n\u001b[0;32m-> 1239\u001b[0;31m                                         validation_freq=validation_freq)\n\u001b[0m\u001b[1;32m   1240\u001b[0m \u001b[0;34m\u001b[0m\u001b[0m\n\u001b[1;32m   1241\u001b[0m     def evaluate(self,\n",
      "\u001b[0;32m/opt/anaconda3/lib/python3.7/site-packages/keras/engine/training_arrays.py\u001b[0m in \u001b[0;36mfit_loop\u001b[0;34m(model, fit_function, fit_inputs, out_labels, batch_size, epochs, verbose, callbacks, val_function, val_inputs, shuffle, initial_epoch, steps_per_epoch, validation_steps, validation_freq)\u001b[0m\n\u001b[1;32m    194\u001b[0m                     \u001b[0mins_batch\u001b[0m\u001b[0;34m[\u001b[0m\u001b[0mi\u001b[0m\u001b[0;34m]\u001b[0m \u001b[0;34m=\u001b[0m \u001b[0mins_batch\u001b[0m\u001b[0;34m[\u001b[0m\u001b[0mi\u001b[0m\u001b[0;34m]\u001b[0m\u001b[0;34m.\u001b[0m\u001b[0mtoarray\u001b[0m\u001b[0;34m(\u001b[0m\u001b[0;34m)\u001b[0m\u001b[0;34m\u001b[0m\u001b[0;34m\u001b[0m\u001b[0m\n\u001b[1;32m    195\u001b[0m \u001b[0;34m\u001b[0m\u001b[0m\n\u001b[0;32m--> 196\u001b[0;31m                 \u001b[0mouts\u001b[0m \u001b[0;34m=\u001b[0m \u001b[0mfit_function\u001b[0m\u001b[0;34m(\u001b[0m\u001b[0mins_batch\u001b[0m\u001b[0;34m)\u001b[0m\u001b[0;34m\u001b[0m\u001b[0;34m\u001b[0m\u001b[0m\n\u001b[0m\u001b[1;32m    197\u001b[0m                 \u001b[0mouts\u001b[0m \u001b[0;34m=\u001b[0m \u001b[0mto_list\u001b[0m\u001b[0;34m(\u001b[0m\u001b[0mouts\u001b[0m\u001b[0;34m)\u001b[0m\u001b[0;34m\u001b[0m\u001b[0;34m\u001b[0m\u001b[0m\n\u001b[1;32m    198\u001b[0m                 \u001b[0;32mfor\u001b[0m \u001b[0ml\u001b[0m\u001b[0;34m,\u001b[0m \u001b[0mo\u001b[0m \u001b[0;32min\u001b[0m \u001b[0mzip\u001b[0m\u001b[0;34m(\u001b[0m\u001b[0mout_labels\u001b[0m\u001b[0;34m,\u001b[0m \u001b[0mouts\u001b[0m\u001b[0;34m)\u001b[0m\u001b[0;34m:\u001b[0m\u001b[0;34m\u001b[0m\u001b[0;34m\u001b[0m\u001b[0m\n",
      "\u001b[0;32m/opt/anaconda3/lib/python3.7/site-packages/tensorflow/python/keras/backend.py\u001b[0m in \u001b[0;36m__call__\u001b[0;34m(self, inputs)\u001b[0m\n\u001b[1;32m   3074\u001b[0m \u001b[0;34m\u001b[0m\u001b[0m\n\u001b[1;32m   3075\u001b[0m     fetched = self._callable_fn(*array_vals,\n\u001b[0;32m-> 3076\u001b[0;31m                                 run_metadata=self.run_metadata)\n\u001b[0m\u001b[1;32m   3077\u001b[0m     \u001b[0mself\u001b[0m\u001b[0;34m.\u001b[0m\u001b[0m_call_fetch_callbacks\u001b[0m\u001b[0;34m(\u001b[0m\u001b[0mfetched\u001b[0m\u001b[0;34m[\u001b[0m\u001b[0;34m-\u001b[0m\u001b[0mlen\u001b[0m\u001b[0;34m(\u001b[0m\u001b[0mself\u001b[0m\u001b[0;34m.\u001b[0m\u001b[0m_fetches\u001b[0m\u001b[0;34m)\u001b[0m\u001b[0;34m:\u001b[0m\u001b[0;34m]\u001b[0m\u001b[0;34m)\u001b[0m\u001b[0;34m\u001b[0m\u001b[0;34m\u001b[0m\u001b[0m\n\u001b[1;32m   3078\u001b[0m     return nest.pack_sequence_as(self._outputs_structure,\n",
      "\u001b[0;32m/opt/anaconda3/lib/python3.7/site-packages/tensorflow/python/client/session.py\u001b[0m in \u001b[0;36m__call__\u001b[0;34m(self, *args, **kwargs)\u001b[0m\n\u001b[1;32m   1437\u001b[0m           ret = tf_session.TF_SessionRunCallable(\n\u001b[1;32m   1438\u001b[0m               \u001b[0mself\u001b[0m\u001b[0;34m.\u001b[0m\u001b[0m_session\u001b[0m\u001b[0;34m.\u001b[0m\u001b[0m_session\u001b[0m\u001b[0;34m,\u001b[0m \u001b[0mself\u001b[0m\u001b[0;34m.\u001b[0m\u001b[0m_handle\u001b[0m\u001b[0;34m,\u001b[0m \u001b[0margs\u001b[0m\u001b[0;34m,\u001b[0m \u001b[0mstatus\u001b[0m\u001b[0;34m,\u001b[0m\u001b[0;34m\u001b[0m\u001b[0;34m\u001b[0m\u001b[0m\n\u001b[0;32m-> 1439\u001b[0;31m               run_metadata_ptr)\n\u001b[0m\u001b[1;32m   1440\u001b[0m         \u001b[0;32mif\u001b[0m \u001b[0mrun_metadata\u001b[0m\u001b[0;34m:\u001b[0m\u001b[0;34m\u001b[0m\u001b[0;34m\u001b[0m\u001b[0m\n\u001b[1;32m   1441\u001b[0m           \u001b[0mproto_data\u001b[0m \u001b[0;34m=\u001b[0m \u001b[0mtf_session\u001b[0m\u001b[0;34m.\u001b[0m\u001b[0mTF_GetBuffer\u001b[0m\u001b[0;34m(\u001b[0m\u001b[0mrun_metadata_ptr\u001b[0m\u001b[0;34m)\u001b[0m\u001b[0;34m\u001b[0m\u001b[0;34m\u001b[0m\u001b[0m\n",
      "\u001b[0;31mKeyboardInterrupt\u001b[0m: "
     ]
    }
   ],
   "source": [
    "history = model.fit(X_train,\n",
    "                    y_train,\n",
    "                    validation_data=(X_test, y_test),\n",
    "                    epochs=100, # num of iteration,\n",
    "                    batch_size=None, # how many sample to update weight,\n",
    "                    verbose=1) # to print log of epech or not\n"
   ]
  },
  {
   "cell_type": "code",
   "execution_count": null,
   "metadata": {
    "scrolled": true
   },
   "outputs": [],
   "source": [
    "loss_test, acc_test = model.evaluate(X_test, y_test)\n",
    "\n",
    "print(f'Test accuracy: {acc_test:.3f}')\n",
    "print(f'Test loss: {loss_test:.3f}')"
   ]
  },
  {
   "cell_type": "code",
   "execution_count": null,
   "metadata": {},
   "outputs": [],
   "source": [
    "classes_name"
   ]
  },
  {
   "cell_type": "markdown",
   "metadata": {},
   "source": [
    "## Modeling "
   ]
  },
  {
   "cell_type": "code",
   "execution_count": 56,
   "metadata": {},
   "outputs": [
    {
     "name": "stdout",
     "output_type": "stream",
     "text": [
      "Model: \"sequential_6\"\n",
      "_________________________________________________________________\n",
      "Layer (type)                 Output Shape              Param #   \n",
      "=================================================================\n",
      "conv2d_15 (Conv2D)           (None, 30, 30, 64)        1792      \n",
      "_________________________________________________________________\n",
      "max_pooling2d_11 (MaxPooling (None, 15, 15, 64)        0         \n",
      "_________________________________________________________________\n",
      "conv2d_16 (Conv2D)           (None, 13, 13, 64)        36928     \n",
      "_________________________________________________________________\n",
      "max_pooling2d_12 (MaxPooling (None, 6, 6, 64)          0         \n",
      "_________________________________________________________________\n",
      "flatten_6 (Flatten)          (None, 2304)              0         \n",
      "_________________________________________________________________\n",
      "dense_8 (Dense)              (None, 43)                99115     \n",
      "=================================================================\n",
      "Total params: 137,835\n",
      "Trainable params: 137,835\n",
      "Non-trainable params: 0\n",
      "_________________________________________________________________\n"
     ]
    }
   ],
   "source": [
    "n_classes = len(np.unique(y_train))\n",
    "\n",
    "model = models.Sequential()\n",
    "\n",
    "model.add(layers.Conv2D(64, (3, 3), activation='sigmoid'))\n",
    "model.add(layers.MaxPooling2D((2, 2)))\n",
    "model.add(layers.Conv2D(64, (3, 3), activation='sigmoid'))\n",
    "model.add(layers.MaxPooling2D((2, 2)))\n",
    "model.add(layers.Flatten())\n",
    "model.add(layers.Dense(n_classes, activation='softmax'))\n",
    "\n",
    "model.build(input_shape=(None, 32, 32, 3))\n",
    "\n",
    "model.compile('sgd', loss='sparse_categorical_crossentropy', metrics=['accuracy'])\n",
    "\n",
    "model.summary()"
   ]
  },
  {
   "cell_type": "code",
   "execution_count": 57,
   "metadata": {},
   "outputs": [
    {
     "data": {
      "text/plain": [
       "(31367, 32, 32, 3)"
      ]
     },
     "execution_count": 57,
     "metadata": {},
     "output_type": "execute_result"
    }
   ],
   "source": [
    "X_train.shape"
   ]
  },
  {
   "cell_type": "code",
   "execution_count": 58,
   "metadata": {
    "scrolled": true
   },
   "outputs": [
    {
     "name": "stdout",
     "output_type": "stream",
     "text": [
      "Train on 25093 samples, validate on 6274 samples\n",
      "Epoch 1/100\n",
      "25093/25093 [==============================] - 23s 925us/step - loss: 3.1499 - accuracy: 0.1754 - val_loss: 2.6808 - val_accuracy: 0.2799\n",
      "Epoch 2/100\n",
      "25093/25093 [==============================] - 31s 1ms/step - loss: 2.1552 - accuracy: 0.3890 - val_loss: 1.9633 - val_accuracy: 0.3774\n",
      "Epoch 3/100\n",
      "25093/25093 [==============================] - 33s 1ms/step - loss: 1.7066 - accuracy: 0.5046 - val_loss: 1.6177 - val_accuracy: 0.4592\n",
      "Epoch 4/100\n",
      "25093/25093 [==============================] - 32s 1ms/step - loss: 1.3251 - accuracy: 0.6432 - val_loss: 1.4207 - val_accuracy: 0.5953\n",
      "Epoch 5/100\n",
      "25093/25093 [==============================] - 29s 1ms/step - loss: 0.9776 - accuracy: 0.7687 - val_loss: 0.9107 - val_accuracy: 0.7520\n",
      "Epoch 6/100\n",
      "25093/25093 [==============================] - 29s 1ms/step - loss: 0.7238 - accuracy: 0.8459 - val_loss: 0.6913 - val_accuracy: 0.8330\n",
      "Epoch 7/100\n",
      "25093/25093 [==============================] - 27s 1ms/step - loss: 0.5608 - accuracy: 0.8882 - val_loss: 0.5189 - val_accuracy: 0.8937\n",
      "Epoch 8/100\n",
      "25093/25093 [==============================] - 28s 1ms/step - loss: 0.4535 - accuracy: 0.9138 - val_loss: 0.4433 - val_accuracy: 0.9091\n",
      "Epoch 9/100\n",
      "25093/25093 [==============================] - 25s 977us/step - loss: 0.3788 - accuracy: 0.9309 - val_loss: 0.3852 - val_accuracy: 0.9200\n",
      "Epoch 10/100\n",
      "25093/25093 [==============================] - 29s 1ms/step - loss: 0.3254 - accuracy: 0.9421 - val_loss: 0.3334 - val_accuracy: 0.9372\n",
      "Epoch 11/100\n",
      "25093/25093 [==============================] - 28s 1ms/step - loss: 0.2852 - accuracy: 0.9501 - val_loss: 0.2949 - val_accuracy: 0.9426\n",
      "Epoch 12/100\n",
      "25093/25093 [==============================] - 26s 1ms/step - loss: 0.2537 - accuracy: 0.9558 - val_loss: 0.2725 - val_accuracy: 0.9463\n",
      "Epoch 13/100\n",
      "25093/25093 [==============================] - 25s 998us/step - loss: 0.2280 - accuracy: 0.9619 - val_loss: 0.2378 - val_accuracy: 0.9570\n",
      "Epoch 14/100\n",
      "25093/25093 [==============================] - 22s 887us/step - loss: 0.2067 - accuracy: 0.9655 - val_loss: 0.2321 - val_accuracy: 0.9555\n",
      "Epoch 15/100\n",
      "25093/25093 [==============================] - 20s 803us/step - loss: 0.1891 - accuracy: 0.9697 - val_loss: 0.2042 - val_accuracy: 0.9641\n",
      "Epoch 16/100\n",
      "25093/25093 [==============================] - 20s 778us/step - loss: 0.1744 - accuracy: 0.9724 - val_loss: 0.1981 - val_accuracy: 0.9627\n",
      "Epoch 17/100\n",
      "25093/25093 [==============================] - 19s 775us/step - loss: 0.1616 - accuracy: 0.9749 - val_loss: 0.1808 - val_accuracy: 0.9675\n",
      "Epoch 18/100\n",
      "25093/25093 [==============================] - 20s 784us/step - loss: 0.1504 - accuracy: 0.9765 - val_loss: 0.1691 - val_accuracy: 0.9683\n",
      "Epoch 19/100\n",
      "25093/25093 [==============================] - 21s 832us/step - loss: 0.1408 - accuracy: 0.9785 - val_loss: 0.1695 - val_accuracy: 0.9680\n",
      "Epoch 20/100\n",
      "25093/25093 [==============================] - 21s 832us/step - loss: 0.1323 - accuracy: 0.9811 - val_loss: 0.1590 - val_accuracy: 0.9697\n",
      "Epoch 21/100\n",
      "25093/25093 [==============================] - 20s 807us/step - loss: 0.1244 - accuracy: 0.9826 - val_loss: 0.1457 - val_accuracy: 0.9729\n",
      "Epoch 22/100\n",
      "25093/25093 [==============================] - 22s 881us/step - loss: 0.1179 - accuracy: 0.9828 - val_loss: 0.1738 - val_accuracy: 0.9625\n",
      "Epoch 23/100\n",
      "25093/25093 [==============================] - 24s 942us/step - loss: 0.1122 - accuracy: 0.9843 - val_loss: 0.1405 - val_accuracy: 0.9742\n",
      "Epoch 24/100\n",
      "25093/25093 [==============================] - 25s 1ms/step - loss: 0.1064 - accuracy: 0.9843 - val_loss: 0.1256 - val_accuracy: 0.9772\n",
      "Epoch 25/100\n",
      "25093/25093 [==============================] - 25s 1ms/step - loss: 0.1015 - accuracy: 0.9864 - val_loss: 0.1222 - val_accuracy: 0.9761\n",
      "Epoch 26/100\n",
      "25093/25093 [==============================] - 23s 898us/step - loss: 0.0965 - accuracy: 0.9869 - val_loss: 0.1169 - val_accuracy: 0.9801\n",
      "Epoch 27/100\n",
      "25093/25093 [==============================] - 23s 918us/step - loss: 0.0920 - accuracy: 0.9878 - val_loss: 0.1126 - val_accuracy: 0.9796\n",
      "Epoch 28/100\n",
      "25093/25093 [==============================] - 24s 971us/step - loss: 0.0885 - accuracy: 0.9884 - val_loss: 0.1102 - val_accuracy: 0.9802\n",
      "Epoch 29/100\n",
      "25093/25093 [==============================] - 24s 939us/step - loss: 0.0851 - accuracy: 0.9886 - val_loss: 0.1694 - val_accuracy: 0.9640\n",
      "Epoch 30/100\n",
      "25093/25093 [==============================] - 28s 1ms/step - loss: 0.0822 - accuracy: 0.9894 - val_loss: 0.1026 - val_accuracy: 0.9821\n",
      "Epoch 31/100\n",
      "25093/25093 [==============================] - 22s 862us/step - loss: 0.0782 - accuracy: 0.9900 - val_loss: 0.0993 - val_accuracy: 0.9834\n",
      "Epoch 32/100\n",
      "25093/25093 [==============================] - 23s 899us/step - loss: 0.0753 - accuracy: 0.9906 - val_loss: 0.1100 - val_accuracy: 0.9775\n",
      "Epoch 33/100\n",
      "25093/25093 [==============================] - 22s 860us/step - loss: 0.0730 - accuracy: 0.9910 - val_loss: 0.0959 - val_accuracy: 0.9831\n",
      "Epoch 34/100\n",
      "25093/25093 [==============================] - 25s 979us/step - loss: 0.0704 - accuracy: 0.9912 - val_loss: 0.0929 - val_accuracy: 0.9837\n",
      "Epoch 35/100\n",
      "25093/25093 [==============================] - 30s 1ms/step - loss: 0.0674 - accuracy: 0.9921 - val_loss: 0.0905 - val_accuracy: 0.9845\n",
      "Epoch 36/100\n",
      "25093/25093 [==============================] - 24s 966us/step - loss: 0.0655 - accuracy: 0.9917 - val_loss: 0.0874 - val_accuracy: 0.9847\n",
      "Epoch 37/100\n",
      "25093/25093 [==============================] - 31s 1ms/step - loss: 0.0629 - accuracy: 0.9924 - val_loss: 0.0860 - val_accuracy: 0.9850\n",
      "Epoch 38/100\n",
      "25093/25093 [==============================] - 26s 1ms/step - loss: 0.0610 - accuracy: 0.9936 - val_loss: 0.0827 - val_accuracy: 0.9849\n",
      "Epoch 39/100\n",
      "25093/25093 [==============================] - 27s 1ms/step - loss: 0.0594 - accuracy: 0.9933 - val_loss: 0.0828 - val_accuracy: 0.9858\n",
      "Epoch 40/100\n",
      "25093/25093 [==============================] - 27s 1ms/step - loss: 0.0575 - accuracy: 0.9937 - val_loss: 0.0802 - val_accuracy: 0.9861\n",
      "Epoch 41/100\n",
      "25093/25093 [==============================] - 30s 1ms/step - loss: 0.0560 - accuracy: 0.9941 - val_loss: 0.0808 - val_accuracy: 0.9863\n",
      "Epoch 42/100\n",
      "25093/25093 [==============================] - 31s 1ms/step - loss: 0.0541 - accuracy: 0.9944 - val_loss: 0.0779 - val_accuracy: 0.9879\n",
      "Epoch 43/100\n",
      "25093/25093 [==============================] - 28s 1ms/step - loss: 0.0529 - accuracy: 0.9946 - val_loss: 0.0758 - val_accuracy: 0.9884\n",
      "Epoch 44/100\n",
      "25093/25093 [==============================] - 33s 1ms/step - loss: 0.0513 - accuracy: 0.9947 - val_loss: 0.0758 - val_accuracy: 0.9882\n",
      "Epoch 45/100\n",
      "25093/25093 [==============================] - 32s 1ms/step - loss: 0.0503 - accuracy: 0.9949 - val_loss: 0.0741 - val_accuracy: 0.9877\n",
      "Epoch 46/100\n",
      "25093/25093 [==============================] - 28s 1ms/step - loss: 0.0483 - accuracy: 0.9955 - val_loss: 0.0753 - val_accuracy: 0.9865\n",
      "Epoch 47/100\n",
      "25093/25093 [==============================] - 31s 1ms/step - loss: 0.0472 - accuracy: 0.9958 - val_loss: 0.0724 - val_accuracy: 0.9877\n",
      "Epoch 48/100\n",
      "25093/25093 [==============================] - 31s 1ms/step - loss: 0.0460 - accuracy: 0.9959 - val_loss: 0.0707 - val_accuracy: 0.9866\n",
      "Epoch 49/100\n",
      "25093/25093 [==============================] - 31s 1ms/step - loss: 0.0447 - accuracy: 0.9959 - val_loss: 0.0697 - val_accuracy: 0.9890\n",
      "Epoch 50/100\n",
      "25093/25093 [==============================] - 27s 1ms/step - loss: 0.0438 - accuracy: 0.9960 - val_loss: 0.0681 - val_accuracy: 0.9872\n",
      "Epoch 51/100\n",
      "25093/25093 [==============================] - 23s 926us/step - loss: 0.0428 - accuracy: 0.9960 - val_loss: 0.0660 - val_accuracy: 0.9893\n",
      "Epoch 52/100\n",
      "25093/25093 [==============================] - 22s 860us/step - loss: 0.0418 - accuracy: 0.9962 - val_loss: 0.0652 - val_accuracy: 0.9880\n",
      "Epoch 53/100\n",
      "25093/25093 [==============================] - 37s 1ms/step - loss: 0.0408 - accuracy: 0.9964 - val_loss: 0.0643 - val_accuracy: 0.9890\n",
      "Epoch 54/100\n",
      "25093/25093 [==============================] - 30s 1ms/step - loss: 0.0399 - accuracy: 0.9964 - val_loss: 0.0718 - val_accuracy: 0.9866\n",
      "Epoch 55/100\n",
      "25093/25093 [==============================] - 23s 916us/step - loss: 0.0391 - accuracy: 0.9968 - val_loss: 0.0627 - val_accuracy: 0.9898\n",
      "Epoch 56/100\n",
      "25093/25093 [==============================] - 22s 896us/step - loss: 0.0379 - accuracy: 0.9969 - val_loss: 0.0621 - val_accuracy: 0.9890\n",
      "Epoch 57/100\n",
      "25093/25093 [==============================] - 31s 1ms/step - loss: 0.0375 - accuracy: 0.9970 - val_loss: 0.0608 - val_accuracy: 0.9896\n",
      "Epoch 58/100\n",
      "25093/25093 [==============================] - 28s 1ms/step - loss: 0.0363 - accuracy: 0.9977 - val_loss: 0.0594 - val_accuracy: 0.9895\n",
      "Epoch 59/100\n",
      "25093/25093 [==============================] - 21s 838us/step - loss: 0.0354 - accuracy: 0.9976 - val_loss: 0.0588 - val_accuracy: 0.9896\n",
      "Epoch 60/100\n",
      "25093/25093 [==============================] - 21s 848us/step - loss: 0.0348 - accuracy: 0.9977 - val_loss: 0.0581 - val_accuracy: 0.9908\n",
      "Epoch 61/100\n",
      "25093/25093 [==============================] - 26s 1ms/step - loss: 0.0344 - accuracy: 0.9976 - val_loss: 0.0589 - val_accuracy: 0.9898\n",
      "Epoch 62/100\n",
      "25093/25093 [==============================] - 26s 1ms/step - loss: 0.0336 - accuracy: 0.9975 - val_loss: 0.0574 - val_accuracy: 0.9909\n",
      "Epoch 63/100\n",
      "25093/25093 [==============================] - 26s 1ms/step - loss: 0.0330 - accuracy: 0.9980 - val_loss: 0.0578 - val_accuracy: 0.9885\n",
      "Epoch 64/100\n",
      "25093/25093 [==============================] - 26s 1ms/step - loss: 0.0320 - accuracy: 0.9982 - val_loss: 0.0561 - val_accuracy: 0.9909\n",
      "Epoch 65/100\n",
      "25093/25093 [==============================] - 23s 928us/step - loss: 0.0315 - accuracy: 0.9981 - val_loss: 0.0559 - val_accuracy: 0.9904\n",
      "Epoch 66/100\n",
      "25093/25093 [==============================] - 24s 972us/step - loss: 0.0311 - accuracy: 0.9978 - val_loss: 0.0544 - val_accuracy: 0.9908\n",
      "Epoch 67/100\n",
      "25093/25093 [==============================] - 22s 893us/step - loss: 0.0303 - accuracy: 0.9985 - val_loss: 0.0538 - val_accuracy: 0.9908\n",
      "Epoch 68/100\n",
      "25093/25093 [==============================] - 23s 924us/step - loss: 0.0297 - accuracy: 0.9982 - val_loss: 0.0530 - val_accuracy: 0.9906\n",
      "Epoch 69/100\n",
      "25093/25093 [==============================] - 23s 929us/step - loss: 0.0289 - accuracy: 0.9984 - val_loss: 0.0521 - val_accuracy: 0.9917\n",
      "Epoch 70/100\n",
      "25093/25093 [==============================] - 22s 871us/step - loss: 0.0287 - accuracy: 0.9982 - val_loss: 0.0528 - val_accuracy: 0.9900\n",
      "Epoch 71/100\n",
      "25093/25093 [==============================] - 22s 873us/step - loss: 0.0283 - accuracy: 0.9986 - val_loss: 0.0531 - val_accuracy: 0.9909\n",
      "Epoch 72/100\n",
      "25093/25093 [==============================] - 22s 858us/step - loss: 0.0279 - accuracy: 0.9986 - val_loss: 0.0513 - val_accuracy: 0.9919\n",
      "Epoch 73/100\n",
      "25093/25093 [==============================] - 23s 922us/step - loss: 0.0272 - accuracy: 0.9986 - val_loss: 0.0516 - val_accuracy: 0.9908\n",
      "Epoch 74/100\n",
      "25093/25093 [==============================] - 26s 1ms/step - loss: 0.0270 - accuracy: 0.9984 - val_loss: 0.0508 - val_accuracy: 0.9909\n",
      "Epoch 75/100\n",
      "25093/25093 [==============================] - 23s 929us/step - loss: 0.0263 - accuracy: 0.9987 - val_loss: 0.0505 - val_accuracy: 0.9922\n",
      "Epoch 76/100\n",
      "25093/25093 [==============================] - 30s 1ms/step - loss: 0.0258 - accuracy: 0.9987 - val_loss: 0.0492 - val_accuracy: 0.9925\n",
      "Epoch 77/100\n",
      "25093/25093 [==============================] - 25s 986us/step - loss: 0.0252 - accuracy: 0.9990 - val_loss: 0.0490 - val_accuracy: 0.9919\n",
      "Epoch 78/100\n",
      "25093/25093 [==============================] - 24s 941us/step - loss: 0.0250 - accuracy: 0.9987 - val_loss: 0.0483 - val_accuracy: 0.9928\n",
      "Epoch 79/100\n",
      "25093/25093 [==============================] - 22s 892us/step - loss: 0.0245 - accuracy: 0.9990 - val_loss: 0.0493 - val_accuracy: 0.9904\n",
      "Epoch 80/100\n",
      "25093/25093 [==============================] - 21s 843us/step - loss: 0.0240 - accuracy: 0.9989 - val_loss: 0.0479 - val_accuracy: 0.9912\n",
      "Epoch 81/100\n",
      "25093/25093 [==============================] - 25s 984us/step - loss: 0.0238 - accuracy: 0.9988 - val_loss: 0.0484 - val_accuracy: 0.9912\n",
      "Epoch 82/100\n",
      "25093/25093 [==============================] - 25s 992us/step - loss: 0.0234 - accuracy: 0.9990 - val_loss: 0.0475 - val_accuracy: 0.9917\n",
      "Epoch 83/100\n",
      "25093/25093 [==============================] - 23s 899us/step - loss: 0.0231 - accuracy: 0.9990 - val_loss: 0.0474 - val_accuracy: 0.9920\n",
      "Epoch 84/100\n",
      "25093/25093 [==============================] - 24s 961us/step - loss: 0.0227 - accuracy: 0.9992 - val_loss: 0.0461 - val_accuracy: 0.9909\n",
      "Epoch 85/100\n",
      "25093/25093 [==============================] - 29s 1ms/step - loss: 0.0225 - accuracy: 0.9990 - val_loss: 0.0460 - val_accuracy: 0.9920\n",
      "Epoch 86/100\n",
      "25093/25093 [==============================] - 27s 1ms/step - loss: 0.0220 - accuracy: 0.9991 - val_loss: 0.0459 - val_accuracy: 0.9920\n",
      "Epoch 87/100\n",
      "25093/25093 [==============================] - 27s 1ms/step - loss: 0.0215 - accuracy: 0.9992 - val_loss: 0.0487 - val_accuracy: 0.9916\n",
      "Epoch 88/100\n",
      "25093/25093 [==============================] - 30s 1ms/step - loss: 0.0214 - accuracy: 0.9991 - val_loss: 0.0459 - val_accuracy: 0.9917\n",
      "Epoch 89/100\n",
      "25093/25093 [==============================] - 32s 1ms/step - loss: 0.0210 - accuracy: 0.9992 - val_loss: 0.0452 - val_accuracy: 0.9923\n",
      "Epoch 90/100\n",
      "25093/25093 [==============================] - 23s 930us/step - loss: 0.0207 - accuracy: 0.9992 - val_loss: 0.0442 - val_accuracy: 0.9920\n",
      "Epoch 91/100\n",
      "25093/25093 [==============================] - 24s 940us/step - loss: 0.0204 - accuracy: 0.9993 - val_loss: 0.0450 - val_accuracy: 0.9919\n",
      "Epoch 92/100\n",
      "25093/25093 [==============================] - 25s 1ms/step - loss: 0.0202 - accuracy: 0.9992 - val_loss: 0.0494 - val_accuracy: 0.9919\n",
      "Epoch 93/100\n",
      "25093/25093 [==============================] - 28s 1ms/step - loss: 0.0200 - accuracy: 0.9992 - val_loss: 0.0440 - val_accuracy: 0.9920\n",
      "Epoch 94/100\n",
      "25093/25093 [==============================] - 22s 879us/step - loss: 0.0195 - accuracy: 0.9993 - val_loss: 0.0438 - val_accuracy: 0.9925\n",
      "Epoch 95/100\n",
      "25093/25093 [==============================] - 21s 851us/step - loss: 0.0192 - accuracy: 0.9993 - val_loss: 0.0427 - val_accuracy: 0.9930\n",
      "Epoch 96/100\n",
      "25093/25093 [==============================] - 24s 968us/step - loss: 0.0189 - accuracy: 0.9993 - val_loss: 0.0431 - val_accuracy: 0.9923\n",
      "Epoch 97/100\n",
      "25093/25093 [==============================] - 27s 1ms/step - loss: 0.0186 - accuracy: 0.9994 - val_loss: 0.0427 - val_accuracy: 0.9927\n",
      "Epoch 98/100\n",
      "25093/25093 [==============================] - 24s 961us/step - loss: 0.0184 - accuracy: 0.9994 - val_loss: 0.0436 - val_accuracy: 0.9923\n",
      "Epoch 99/100\n",
      "25093/25093 [==============================] - 24s 963us/step - loss: 0.0182 - accuracy: 0.9994 - val_loss: 0.0428 - val_accuracy: 0.9930\n",
      "Epoch 100/100\n",
      "25093/25093 [==============================] - 24s 969us/step - loss: 0.0180 - accuracy: 0.9994 - val_loss: 0.0428 - val_accuracy: 0.9925\n"
     ]
    },
    {
     "data": {
      "text/plain": [
       "<keras.callbacks.callbacks.History at 0x1a38f64c90>"
      ]
     },
     "execution_count": 58,
     "metadata": {},
     "output_type": "execute_result"
    }
   ],
   "source": [
    "model.fit(X_train, y_train, validation_split=0.2, epochs=100)"
   ]
  },
  {
   "cell_type": "code",
   "execution_count": 60,
   "metadata": {},
   "outputs": [
    {
     "name": "stdout",
     "output_type": "stream",
     "text": [
      "7842/7842 [==============================] - 2s 284us/step\n",
      "Test accuracy: 0.991\n",
      "Test loss: 0.047\n"
     ]
    }
   ],
   "source": [
    "loss_test, acc_test = model.evaluate(X_test, y_test)\n",
    "\n",
    "print(f'Test accuracy: {acc_test:.3f}')\n",
    "print(f'Test loss: {loss_test:.3f}')"
   ]
  },
  {
   "cell_type": "code",
   "execution_count": 143,
   "metadata": {},
   "outputs": [],
   "source": [
    "from keras.models import load_model\n",
    "import pickle\n",
    "# STORE THE MODEL AS A PICKLE OBJECT\n",
    "pickle_out= open(\"Models/capstone_model_wed.p\",\"wb\")  # wb = WRITE BYTE\n",
    "pickle.dump(model,pickle_out)\n",
    "pickle_out.close()\n",
    "# cv2.waitKey(0)"
   ]
  },
  {
   "cell_type": "code",
   "execution_count": 144,
   "metadata": {},
   "outputs": [],
   "source": [
    "from keras.models import load_model\n",
    "\n",
    "model.save('Models/capstone_model_wed.h5')  # creates a HDF5 file \n",
    "del model  # deletes the existing model\n",
    "\n",
    "# returns a compiled model\n",
    "# identical to the previous one\n",
    "model = load_model('Models/capstone_model_wed.h5')"
   ]
  },
  {
   "cell_type": "code",
   "execution_count": 116,
   "metadata": {},
   "outputs": [],
   "source": [
    "# ## plot loss function\n",
    "# train_loss = model.history['loss']\n",
    "# test_loss = model.history['val_loss']\n",
    "# plt.plot(train_loss, label='Training loss')\n",
    "# plt.plot(test_loss, label='Testing loss')\n",
    "# plt.legend()"
   ]
  },
  {
   "cell_type": "code",
   "execution_count": 145,
   "metadata": {},
   "outputs": [],
   "source": [
    "def getCalssName(classNo):\n",
    "    if   classNo == 0: return 'Speed Limit 20 km/h'\n",
    "    elif classNo == 1: return 'Speed Limit 30 km/h'\n",
    "    elif classNo == 2: return 'Speed Limit 50 km/h'\n",
    "    elif classNo == 3: return 'Speed Limit 60 km/h'\n",
    "    elif classNo == 4: return 'Speed Limit 70 km/h'\n",
    "    elif classNo == 5: return 'Speed Limit 80 km/h'\n",
    "    elif classNo == 6: return 'End of Speed Limit 80 km/h'\n",
    "    elif classNo == 7: return 'Speed Limit 100 km/h'\n",
    "    elif classNo == 8: return 'Speed Limit 120 km/h'\n",
    "    elif classNo == 9: return 'No passing'\n",
    "    elif classNo == 10: return 'No passing for vechiles over 3.5 metric tons'\n",
    "    elif classNo == 11: return 'Right-of-way at the next intersection'\n",
    "    elif classNo == 12: return 'Priority road'\n",
    "    elif classNo == 13: return 'Yield'\n",
    "    elif classNo == 14: return 'Stop'\n",
    "    elif classNo == 15: return 'No vechiles'\n",
    "    elif classNo == 16: return 'Vechiles over 3.5 metric tons prohibited'\n",
    "    elif classNo == 17: return 'No entry'\n",
    "    elif classNo == 18: return 'General caution'\n",
    "    elif classNo == 19: return 'Dangerous curve to the left'\n",
    "    elif classNo == 20: return 'Dangerous curve to the right'\n",
    "    elif classNo == 21: return 'Double curve'\n",
    "    elif classNo == 22: return 'Bumpy road'\n",
    "    elif classNo == 23: return 'Slippery road'\n",
    "    elif classNo == 24: return 'Road narrows on the right'\n",
    "    elif classNo == 25: return 'Road work'\n",
    "    elif classNo == 26: return 'Traffic signals'\n",
    "    elif classNo == 27: return 'Pedestrians'\n",
    "    elif classNo == 28: return 'Children crossing'\n",
    "    elif classNo == 29: return 'Bicycles crossing'\n",
    "    elif classNo == 30: return 'Beware of ice/snow'\n",
    "    elif classNo == 31: return 'Wild animals crossing'\n",
    "    elif classNo == 32: return 'End of all speed and passing limits'\n",
    "    elif classNo == 33: return 'Turn right ahead'\n",
    "    elif classNo == 34: return 'Turn left ahead'\n",
    "    elif classNo == 35: return 'Ahead only'\n",
    "    elif classNo == 36: return 'Go straight or right'\n",
    "    elif classNo == 37: return 'Go straight or left'\n",
    "    elif classNo == 38: return 'Keep right'\n",
    "    elif classNo == 39: return 'Keep left'\n",
    "    elif classNo == 40: return 'Roundabout mandatory'\n",
    "    elif classNo == 41: return 'End of no passing'\n",
    "    elif classNo == 42: return 'End of no passing by vechiles over 3.5 metric tons'"
   ]
  },
  {
   "cell_type": "code",
   "execution_count": 184,
   "metadata": {},
   "outputs": [
    {
     "name": "stdout",
     "output_type": "stream",
     "text": [
      "Predicted: No entry\n",
      "Actual: No entry\n"
     ]
    },
    {
     "data": {
      "image/png": "[encoded data removed]",
      "text/plain": [
       "<Figure size 432x288 with 1 Axes>"
      ]
     },
     "metadata": {
      "needs_background": "light"
     },
     "output_type": "display_data"
    }
   ],
   "source": [
    "i = np.random.randint(0, len(X_train))\n",
    "# print(i)\n",
    "y_pred = model.predict(X_train[i].reshape(1, 32, 32, 3)).argmax()\n",
    "\n",
    "print('Predicted:',getCalssName(y_pred))\n",
    "\n",
    "print('Actual:',getCalssName(y_train[i]))\n",
    "plt.imshow(X_train[i]);"
   ]
  },
  {
   "cell_type": "code",
   "execution_count": null,
   "metadata": {},
   "outputs": [],
   "source": []
  },
  {
   "cell_type": "markdown",
   "metadata": {},
   "source": [
    "## To do!\n",
    "2- GUI for presentation demo X\n",
    "\n",
    "\n",
    "3- Presentation. X\n",
    "\n",
    "\n",
    "\n",
    "\n",
    "1- segmentation algorithms to get boxes  -- pretrined model\n",
    "\n",
    "\n",
    "4- video framing X\n",
    "\n",
    "\n",
    "5- camera demo "
   ]
  },
  {
   "cell_type": "code",
   "execution_count": null,
   "metadata": {},
   "outputs": [],
   "source": [
    "# Save model\n",
    "model.save('Models/traffic_sign_classifier222')"
   ]
  },
  {
   "cell_type": "code",
   "execution_count": null,
   "metadata": {},
   "outputs": [],
   "source": []
  },
  {
   "cell_type": "code",
   "execution_count": null,
   "metadata": {},
   "outputs": [],
   "source": [
    "import cv2\n",
    "import numpy as np\n"
   ]
  },
  {
   "cell_type": "code",
   "execution_count": null,
   "metadata": {},
   "outputs": [],
   "source": [
    "import matplotlib.pyplot as plt\n",
    "from matplotlib.patches import Rectangle\n",
    "\n"
   ]
  },
  {
   "cell_type": "code",
   "execution_count": null,
   "metadata": {},
   "outputs": [],
   "source": [
    "df_train.head()"
   ]
  },
  {
   "cell_type": "code",
   "execution_count": null,
   "metadata": {},
   "outputs": [],
   "source": [
    "from keras_retinanet import models\n",
    "from keras_retinanet.utils.image import read_image_bgr, preprocess_image, resize_image\n",
    "from keras_retinanet.utils.visualization import draw_box, draw_caption\n",
    "from keras_retinanet.utils.colors import label_color"
   ]
  },
  {
   "cell_type": "code",
   "execution_count": null,
   "metadata": {},
   "outputs": [],
   "source": [
    "import cv2 \n",
    "  \n",
    "# path \n",
    "path = 'Dataset/Train/20/00020_00000_00000.png'\n",
    "  \n",
    "# Using cv2.imread() method \n",
    "img = cv2.imread(path, 0) \n",
    "  \n",
    "# Displaying the image \n",
    "plt.imshow( img) \n",
    "\n",
    "\n",
    "\n",
    "ax = plt.gca()\n",
    "\n",
    "# Create a Rectangle patch\n",
    "rect = Rectangle((5,5),17,15,linewidth=2,edgecolor='r', fill=False)\n",
    "\n",
    "# Add the patch to the Axes\n",
    "ax.add_patch(rect)\n",
    "\n"
   ]
  },
  {
   "cell_type": "code",
   "execution_count": null,
   "metadata": {},
   "outputs": [],
   "source": []
  },
  {
   "cell_type": "markdown",
   "metadata": {},
   "source": [
    "# GUI\n"
   ]
  },
  {
   "cell_type": "code",
   "execution_count": 1,
   "metadata": {},
   "outputs": [
    {
     "name": "stderr",
     "output_type": "stream",
     "text": [
      "Using TensorFlow backend.\n",
      "/opt/anaconda3/lib/python3.7/site-packages/tensorflow/python/framework/dtypes.py:526: FutureWarning: Passing (type, 1) or '1type' as a synonym of type is deprecated; in a future version of numpy, it will be understood as (type, (1,)) / '(1,)type'.\n",
      "  _np_qint8 = np.dtype([(\"qint8\", np.int8, 1)])\n",
      "/opt/anaconda3/lib/python3.7/site-packages/tensorflow/python/framework/dtypes.py:527: FutureWarning: Passing (type, 1) or '1type' as a synonym of type is deprecated; in a future version of numpy, it will be understood as (type, (1,)) / '(1,)type'.\n",
      "  _np_quint8 = np.dtype([(\"quint8\", np.uint8, 1)])\n",
      "/opt/anaconda3/lib/python3.7/site-packages/tensorflow/python/framework/dtypes.py:528: FutureWarning: Passing (type, 1) or '1type' as a synonym of type is deprecated; in a future version of numpy, it will be understood as (type, (1,)) / '(1,)type'.\n",
      "  _np_qint16 = np.dtype([(\"qint16\", np.int16, 1)])\n",
      "/opt/anaconda3/lib/python3.7/site-packages/tensorflow/python/framework/dtypes.py:529: FutureWarning: Passing (type, 1) or '1type' as a synonym of type is deprecated; in a future version of numpy, it will be understood as (type, (1,)) / '(1,)type'.\n",
      "  _np_quint16 = np.dtype([(\"quint16\", np.uint16, 1)])\n",
      "/opt/anaconda3/lib/python3.7/site-packages/tensorflow/python/framework/dtypes.py:530: FutureWarning: Passing (type, 1) or '1type' as a synonym of type is deprecated; in a future version of numpy, it will be understood as (type, (1,)) / '(1,)type'.\n",
      "  _np_qint32 = np.dtype([(\"qint32\", np.int32, 1)])\n",
      "/opt/anaconda3/lib/python3.7/site-packages/tensorflow/python/framework/dtypes.py:535: FutureWarning: Passing (type, 1) or '1type' as a synonym of type is deprecated; in a future version of numpy, it will be understood as (type, (1,)) / '(1,)type'.\n",
      "  np_resource = np.dtype([(\"resource\", np.ubyte, 1)])\n"
     ]
    },
    {
     "name": "stdout",
     "output_type": "stream",
     "text": [
      "WARNING:tensorflow:From /opt/anaconda3/lib/python3.7/site-packages/tensorflow/python/ops/resource_variable_ops.py:435: colocate_with (from tensorflow.python.framework.ops) is deprecated and will be removed in a future version.\n",
      "Instructions for updating:\n",
      "Colocations handled automatically by placer.\n",
      "End of speed limit (80km/h)\n",
      "Go straight or left\n",
      "Speed limit (60km/h)\n",
      "Stop\n"
     ]
    },
    {
     "ename": "KeyboardInterrupt",
     "evalue": "",
     "output_type": "error",
     "traceback": [
      "\u001b[0;31m---------------------------------------------------------------------------\u001b[0m",
      "\u001b[0;31mKeyboardInterrupt\u001b[0m                         Traceback (most recent call last)",
      "\u001b[0;32m<ipython-input-1-b88c9184e266>\u001b[0m in \u001b[0;36m<module>\u001b[0;34m\u001b[0m\n\u001b[1;32m     94\u001b[0m \u001b[0mheading\u001b[0m\u001b[0;34m.\u001b[0m\u001b[0mconfigure\u001b[0m\u001b[0;34m(\u001b[0m\u001b[0mbackground\u001b[0m\u001b[0;34m=\u001b[0m\u001b[0;34m'#CDCDCD'\u001b[0m\u001b[0;34m,\u001b[0m\u001b[0mforeground\u001b[0m\u001b[0;34m=\u001b[0m\u001b[0;34m'#364156'\u001b[0m\u001b[0;34m)\u001b[0m\u001b[0;34m\u001b[0m\u001b[0;34m\u001b[0m\u001b[0m\n\u001b[1;32m     95\u001b[0m \u001b[0mheading\u001b[0m\u001b[0;34m.\u001b[0m\u001b[0mpack\u001b[0m\u001b[0;34m(\u001b[0m\u001b[0;34m)\u001b[0m\u001b[0;34m\u001b[0m\u001b[0;34m\u001b[0m\u001b[0m\n\u001b[0;32m---> 96\u001b[0;31m \u001b[0mtop\u001b[0m\u001b[0;34m.\u001b[0m\u001b[0mmainloop\u001b[0m\u001b[0;34m(\u001b[0m\u001b[0;34m)\u001b[0m\u001b[0;34m\u001b[0m\u001b[0;34m\u001b[0m\u001b[0m\n\u001b[0m",
      "\u001b[0;32m/opt/anaconda3/lib/python3.7/tkinter/__init__.py\u001b[0m in \u001b[0;36mmainloop\u001b[0;34m(self, n)\u001b[0m\n\u001b[1;32m   1281\u001b[0m     \u001b[0;32mdef\u001b[0m \u001b[0mmainloop\u001b[0m\u001b[0;34m(\u001b[0m\u001b[0mself\u001b[0m\u001b[0;34m,\u001b[0m \u001b[0mn\u001b[0m\u001b[0;34m=\u001b[0m\u001b[0;36m0\u001b[0m\u001b[0;34m)\u001b[0m\u001b[0;34m:\u001b[0m\u001b[0;34m\u001b[0m\u001b[0;34m\u001b[0m\u001b[0m\n\u001b[1;32m   1282\u001b[0m         \u001b[0;34m\"\"\"Call the mainloop of Tk.\"\"\"\u001b[0m\u001b[0;34m\u001b[0m\u001b[0;34m\u001b[0m\u001b[0m\n\u001b[0;32m-> 1283\u001b[0;31m         \u001b[0mself\u001b[0m\u001b[0;34m.\u001b[0m\u001b[0mtk\u001b[0m\u001b[0;34m.\u001b[0m\u001b[0mmainloop\u001b[0m\u001b[0;34m(\u001b[0m\u001b[0mn\u001b[0m\u001b[0;34m)\u001b[0m\u001b[0;34m\u001b[0m\u001b[0;34m\u001b[0m\u001b[0m\n\u001b[0m\u001b[1;32m   1284\u001b[0m     \u001b[0;32mdef\u001b[0m \u001b[0mquit\u001b[0m\u001b[0;34m(\u001b[0m\u001b[0mself\u001b[0m\u001b[0;34m)\u001b[0m\u001b[0;34m:\u001b[0m\u001b[0;34m\u001b[0m\u001b[0;34m\u001b[0m\u001b[0m\n\u001b[1;32m   1285\u001b[0m         \u001b[0;34m\"\"\"Quit the Tcl interpreter. All widgets will be destroyed.\"\"\"\u001b[0m\u001b[0;34m\u001b[0m\u001b[0;34m\u001b[0m\u001b[0m\n",
      "\u001b[0;31mKeyboardInterrupt\u001b[0m: "
     ]
    }
   ],
   "source": [
    "import tkinter as tk\n",
    "from tkinter import filedialog\n",
    "from tkinter import *\n",
    "from PIL import ImageTk, Image\n",
    "import cv2\n",
    "import numpy\n",
    "#load the trained model to classify sign\n",
    "from keras.models import load_model\n",
    "model = load_model('Models/capstone_model_wed.h5')\n",
    "#dictionary to label all traffic signs class.\n",
    "classes = { 1:'Speed limit (20km/h)',\n",
    "            2:'Speed limit (30km/h)', \n",
    "            3:'Speed limit (50km/h)', \n",
    "            4:'Speed limit (60km/h)', \n",
    "            5:'Speed limit (70km/h)', \n",
    "            6:'Speed limit (80km/h)', \n",
    "            7:'End of speed limit (80km/h)', \n",
    "            8:'Speed limit (100km/h)', \n",
    "            9:'Speed limit (120km/h)', \n",
    "            10:'No passing', \n",
    "            11:'No passing veh over 3.5 tons', \n",
    "            12:'Right-of-way at intersection', \n",
    "            13:'Priority road', \n",
    "            14:'Yield', \n",
    "            15:'Stop', \n",
    "            16:'No vehicles', \n",
    "            17:'Veh > 3.5 tons prohibited', \n",
    "            18:'No entry', \n",
    "            19:'General caution', \n",
    "            20:'Dangerous curve left', \n",
    "            21:'Dangerous curve right', \n",
    "            22:'Double curve', \n",
    "            23:'Bumpy road', \n",
    "            24:'Slippery road', \n",
    "            25:'Road narrows on the right', \n",
    "            26:'Road work', \n",
    "            27:'Traffic signals', \n",
    "            28:'Pedestrians', \n",
    "            29:'Children crossing', \n",
    "            30:'Bicycles crossing', \n",
    "            31:'Beware of ice/snow',\n",
    "            32:'Wild animals crossing', \n",
    "            33:'End speed + passing limits', \n",
    "            34:'Turn right ahead', \n",
    "            35:'Turn left ahead', \n",
    "            36:'Ahead only', \n",
    "            37:'Go straight or right', \n",
    "            38:'Go straight or left', \n",
    "            39:'Keep right', \n",
    "            40:'Keep left', \n",
    "            41:'Roundabout mandatory', \n",
    "            42:'End of no passing', \n",
    "            43:'End no passing veh > 3.5 tons' }\n",
    "\n",
    "#initialise GUI\n",
    "top=tk.Tk()\n",
    "top.geometry('800x600')\n",
    "top.title('Traffic sign classification')\n",
    "top.configure(background='#CDCDCD')\n",
    "label=Label(top,background='#CDCDCD', font=('arial',18,'bold'))\n",
    "sign_image = Label(top)\n",
    "def classify(file_path):\n",
    "    global label_packed\n",
    "    image = Image.open(file_path)\n",
    "    image = image.resize((32,32))\n",
    "    image = numpy.expand_dims(image, axis=0)\n",
    "    image = numpy.array(image)\n",
    "    pred = model.predict_classes([image])[0]\n",
    "    sign = classes[pred+1]\n",
    "    print(sign)\n",
    "    label.configure(foreground='#011638', text=sign) \n",
    "def show_classify_button(file_path):\n",
    "    classify_b=Button(top,text=\"Classify Image\",command=lambda: classify(file_path),padx=10,pady=5)\n",
    "    classify_b.configure(background='#364156', foreground='black',font=('arial',10,'bold'))\n",
    "    classify_b.place(relx=0.79,rely=0.46)\n",
    "def upload_image():\n",
    "    try:\n",
    "        file_path=filedialog.askopenfilename()\n",
    "        uploaded=Image.open(file_path)\n",
    "        uploaded.thumbnail(((top.winfo_width()/2.25),(top.winfo_height()/2.25)))\n",
    "        im=ImageTk.PhotoImage(uploaded)\n",
    "        sign_image.configure(image=im)\n",
    "        sign_image.image=im\n",
    "        label.configure(text='')\n",
    "        show_classify_button(file_path)\n",
    "    except:\n",
    "        pass\n",
    "upload=Button(top,text=\"Upload an image\",command=upload_image,padx=10,pady=5)\n",
    "upload.configure(background='#364156', foreground='black',font=('arial',10,'bold'))\n",
    "upload.pack(side=BOTTOM,pady=50)\n",
    "sign_image.pack(side=BOTTOM,expand=True)\n",
    "label.pack(side=BOTTOM,expand=True)\n",
    "heading = Label(top, text=\"Know Your Traffic Sign\",pady=20, font=('arial',20,'bold'))\n",
    "heading.configure(background='#CDCDCD',foreground='#364156')\n",
    "heading.pack()\n",
    "top.mainloop()"
   ]
  },
  {
   "cell_type": "code",
   "execution_count": null,
   "metadata": {},
   "outputs": [],
   "source": []
  },
  {
   "cell_type": "markdown",
   "metadata": {},
   "source": [
    "# Cam Demo"
   ]
  },
  {
   "cell_type": "code",
   "execution_count": 1,
   "metadata": {},
   "outputs": [],
   "source": [
    "import numpy as np\n",
    "import cv2\n",
    "import pickle"
   ]
  },
  {
   "cell_type": "code",
   "execution_count": 2,
   "metadata": {},
   "outputs": [],
   "source": [
    "#############################################\n",
    "\n",
    "frameWidth= 640         # CAMERA RESOLUTION\n",
    "frameHeight = 480\n",
    "brightness = 180\n",
    "threshold = 0.75         # PROBABLITY THRESHOLD\n",
    "font = cv2.FONT_HERSHEY_SIMPLEX\n",
    "##############################################"
   ]
  },
  {
   "cell_type": "code",
   "execution_count": 3,
   "metadata": {},
   "outputs": [
    {
     "name": "stderr",
     "output_type": "stream",
     "text": [
      "Using TensorFlow backend.\n",
      "/opt/anaconda3/lib/python3.7/site-packages/tensorflow/python/framework/dtypes.py:526: FutureWarning: Passing (type, 1) or '1type' as a synonym of type is deprecated; in a future version of numpy, it will be understood as (type, (1,)) / '(1,)type'.\n",
      "  _np_qint8 = np.dtype([(\"qint8\", np.int8, 1)])\n",
      "/opt/anaconda3/lib/python3.7/site-packages/tensorflow/python/framework/dtypes.py:527: FutureWarning: Passing (type, 1) or '1type' as a synonym of type is deprecated; in a future version of numpy, it will be understood as (type, (1,)) / '(1,)type'.\n",
      "  _np_quint8 = np.dtype([(\"quint8\", np.uint8, 1)])\n",
      "/opt/anaconda3/lib/python3.7/site-packages/tensorflow/python/framework/dtypes.py:528: FutureWarning: Passing (type, 1) or '1type' as a synonym of type is deprecated; in a future version of numpy, it will be understood as (type, (1,)) / '(1,)type'.\n",
      "  _np_qint16 = np.dtype([(\"qint16\", np.int16, 1)])\n",
      "/opt/anaconda3/lib/python3.7/site-packages/tensorflow/python/framework/dtypes.py:529: FutureWarning: Passing (type, 1) or '1type' as a synonym of type is deprecated; in a future version of numpy, it will be understood as (type, (1,)) / '(1,)type'.\n",
      "  _np_quint16 = np.dtype([(\"quint16\", np.uint16, 1)])\n",
      "/opt/anaconda3/lib/python3.7/site-packages/tensorflow/python/framework/dtypes.py:530: FutureWarning: Passing (type, 1) or '1type' as a synonym of type is deprecated; in a future version of numpy, it will be understood as (type, (1,)) / '(1,)type'.\n",
      "  _np_qint32 = np.dtype([(\"qint32\", np.int32, 1)])\n",
      "/opt/anaconda3/lib/python3.7/site-packages/tensorflow/python/framework/dtypes.py:535: FutureWarning: Passing (type, 1) or '1type' as a synonym of type is deprecated; in a future version of numpy, it will be understood as (type, (1,)) / '(1,)type'.\n",
      "  np_resource = np.dtype([(\"resource\", np.ubyte, 1)])\n"
     ]
    },
    {
     "name": "stdout",
     "output_type": "stream",
     "text": [
      "WARNING:tensorflow:From /opt/anaconda3/lib/python3.7/site-packages/tensorflow/python/ops/resource_variable_ops.py:435: colocate_with (from tensorflow.python.framework.ops) is deprecated and will be removed in a future version.\n",
      "Instructions for updating:\n",
      "Colocations handled automatically by placer.\n",
      "WARNING:tensorflow:From /opt/anaconda3/lib/python3.7/site-packages/tensorflow/python/ops/math_ops.py:3066: to_int32 (from tensorflow.python.ops.math_ops) is deprecated and will be removed in a future version.\n",
      "Instructions for updating:\n",
      "Use tf.cast instead.\n"
     ]
    }
   ],
   "source": [
    "# SETUP THE VIDEO CAMERA\n",
    "cap = cv2.VideoCapture(0)\n",
    "cap.set(3, frameWidth)\n",
    "cap.set(4, frameHeight)\n",
    "cap.set(10, brightness)\n",
    "# IMPORT THE TRANNIED MODEL\n",
    "pickle_in=open(\"Models/cam_model_wed.p\",\"rb\")  ## rb = READ BYTE\n",
    "model=pickle.load(pickle_in)"
   ]
  },
  {
   "cell_type": "code",
   "execution_count": 4,
   "metadata": {},
   "outputs": [],
   "source": [
    "def grayscale(img):\n",
    "    img = cv2.cvtColor(img,cv2.COLOR_BGR2GRAY)\n",
    "    return img\n",
    "def equalize(img):\n",
    "    img =cv2.equalizeHist(img)\n",
    "    return img\n",
    "def preprocessing(img):\n",
    "    img = grayscale(img)\n",
    "    img = equalize(img)\n",
    "    img = img/255\n",
    "    return img"
   ]
  },
  {
   "cell_type": "code",
   "execution_count": 5,
   "metadata": {},
   "outputs": [],
   "source": [
    "def getCalssName(classNo):\n",
    "    if   classNo == 0: return 'Speed Limit 20 km/h'\n",
    "    elif classNo == 1: return 'Speed Limit 30 km/h'\n",
    "    elif classNo == 2: return 'Speed Limit 50 km/h'\n",
    "    elif classNo == 3: return 'Speed Limit 60 km/h'\n",
    "    elif classNo == 4: return 'Speed Limit 70 km/h'\n",
    "    elif classNo == 5: return 'Speed Limit 80 km/h'\n",
    "    elif classNo == 6: return 'End of Speed Limit 80 km/h'\n",
    "    elif classNo == 7: return 'Speed Limit 100 km/h'\n",
    "    elif classNo == 8: return 'Speed Limit 120 km/h'\n",
    "    elif classNo == 9: return 'No passing'\n",
    "    elif classNo == 10: return 'No passing for vechiles over 3.5 metric tons'\n",
    "    elif classNo == 11: return 'Right-of-way at the next intersection'\n",
    "    elif classNo == 12: return 'Priority road'\n",
    "    elif classNo == 13: return 'Yield'\n",
    "    elif classNo == 14: return 'Stop'\n",
    "    elif classNo == 15: return 'No vechiles'\n",
    "    elif classNo == 16: return 'Vechiles over 3.5 metric tons prohibited'\n",
    "    elif classNo == 17: return 'No entry'\n",
    "    elif classNo == 18: return 'General caution'\n",
    "    elif classNo == 19: return 'Dangerous curve to the left'\n",
    "    elif classNo == 20: return 'Dangerous curve to the right'\n",
    "    elif classNo == 21: return 'Double curve'\n",
    "    elif classNo == 22: return 'Bumpy road'\n",
    "    elif classNo == 23: return 'Slippery road'\n",
    "    elif classNo == 24: return 'Road narrows on the right'\n",
    "    elif classNo == 25: return 'Road work'\n",
    "    elif classNo == 26: return 'Traffic signals'\n",
    "    elif classNo == 27: return 'Pedestrians'\n",
    "    elif classNo == 28: return 'Children crossing'\n",
    "    elif classNo == 29: return 'Bicycles crossing'\n",
    "    elif classNo == 30: return 'Beware of ice/snow'\n",
    "    elif classNo == 31: return 'Wild animals crossing'\n",
    "    elif classNo == 32: return 'End of all speed and passing limits'\n",
    "    elif classNo == 33: return 'Turn right ahead'\n",
    "    elif classNo == 34: return 'Turn left ahead'\n",
    "    elif classNo == 35: return 'Ahead only'\n",
    "    elif classNo == 36: return 'Go straight or right'\n",
    "    elif classNo == 37: return 'Go straight or left'\n",
    "    elif classNo == 38: return 'Keep right'\n",
    "    elif classNo == 39: return 'Keep left'\n",
    "    elif classNo == 40: return 'Roundabout mandatory'\n",
    "    elif classNo == 41: return 'End of no passing'\n",
    "    elif classNo == 42: return 'End of no passing by vechiles over 3.5 metric tons'"
   ]
  },
  {
   "cell_type": "code",
   "execution_count": null,
   "metadata": {},
   "outputs": [],
   "source": [
    "while True:\n",
    "\n",
    "    # READ IMAGE\n",
    "    success, imgOrignal = cap.read()\n",
    "\n",
    "    # PROCESS IMAGE\n",
    "    img = np.asarray(imgOrignal)\n",
    "    img = cv2.resize(img, (32, 32))\n",
    "    img = preprocessing(img)\n",
    "    cv2.imshow(\"Processed Image\", img)\n",
    "    img = img.reshape(1, 32, 32, 1)\n",
    "    cv2.putText(imgOrignal, \"CLASS: \" , (20, 35), font, 0.75, (0, 0, 255), 2, cv2.LINE_AA)\n",
    "    cv2.putText(imgOrignal, \"PROBABILITY: \", (20, 75), font, 0.75, (0, 0, 255), 2, cv2.LINE_AA)\n",
    "    # PREDICT IMAGE\n",
    "    predictions = model.predict(img)\n",
    "    classIndex = model.predict_classes(img)\n",
    "    probabilityValue =np.amax(predictions)\n",
    "    if probabilityValue > threshold:\n",
    "        #print(getCalssName(classIndex))\n",
    "        cv2.putText(imgOrignal,str(classIndex)+\" \"+str(getCalssName(classIndex)), (120, 35), font, 0.75, (0, 0, 255), 2, cv2.LINE_AA)\n",
    "        cv2.putText(imgOrignal, str(round(probabilityValue*100,2) )+\"%\", (180, 75), font, 0.75, (0, 0, 255), 2, cv2.LINE_AA)\n",
    "    cv2.imshow(\"Result\", imgOrignal)\n",
    "\n",
    "    if cv2.waitKey(1) & 0xFF == ord('q'):\n",
    "        break"
   ]
  },
  {
   "cell_type": "code",
   "execution_count": null,
   "metadata": {},
   "outputs": [],
   "source": []
  }
 ],
 "metadata": {
  "kernelspec": {
   "display_name": "Python 3",
   "language": "python",
   "name": "python3"
  },
  "language_info": {
   "codemirror_mode": {
    "name": "ipython",
    "version": 3
   },
   "file_extension": ".py",
   "mimetype": "text/x-python",
   "name": "python",
   "nbconvert_exporter": "python",
   "pygments_lexer": "ipython3",
   "version": "3.7.6"
  }
 },
 "nbformat": 4,
 "nbformat_minor": 4
}
